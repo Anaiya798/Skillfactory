{
 "cells": [
  {
   "cell_type": "code",
   "execution_count": 1,
   "id": "e2bf895e",
   "metadata": {},
   "outputs": [
    {
     "data": {
      "text/plain": [
       "2.0"
      ]
     },
     "execution_count": 1,
     "metadata": {},
     "output_type": "execute_result"
    }
   ],
   "source": [
    "import numpy as np\n",
    "\n",
    "np.mean([1, 2, 3])"
   ]
  },
  {
   "cell_type": "code",
   "execution_count": 3,
   "id": "f113ca1e",
   "metadata": {},
   "outputs": [],
   "source": [
    "class User():\n",
    "    def __init__(self, email, password, balance):\n",
    "        self.email = email\n",
    "        self.password = password\n",
    "        self.balance = balance\n",
    "        \n",
    "    def login(self, email, password):\n",
    "        if email == self.email and password == self.password:\n",
    "            return True\n",
    "        return False\n",
    "    \n",
    "    def update_balance(self, amount):\n",
    "        self.balance += amount"
   ]
  },
  {
   "cell_type": "code",
   "execution_count": 5,
   "id": "ca965fc1",
   "metadata": {},
   "outputs": [
    {
     "name": "stdout",
     "output_type": "stream",
     "text": [
      "False\n",
      "True\n",
      "19700\n"
     ]
    }
   ],
   "source": [
    "user = User(\"gosha@roskino.org\", \"qwerty\", 20000)\n",
    "print(user.login(\"gosha@roskino.org\", \"qwerty123\"))\n",
    "# => False\n",
    "print(user.login(\"gosha@roskino.org\", \"qwerty\"))\n",
    "# => True\n",
    "user.update_balance(200)\n",
    "user.update_balance(-500)\n",
    "print(user.balance)\n",
    "# => 19700"
   ]
  },
  {
   "cell_type": "code",
   "execution_count": 9,
   "id": "0a643b71",
   "metadata": {},
   "outputs": [
    {
     "data": {
      "text/plain": [
       "4"
      ]
     },
     "execution_count": 9,
     "metadata": {},
     "output_type": "execute_result"
    }
   ],
   "source": [
    "a = [0, 1, 2, 3, 0]\n",
    "len(set(a))"
   ]
  },
  {
   "cell_type": "markdown",
   "id": "c8ef4336",
   "metadata": {},
   "source": [
    "Определите класс IntDataFrame, который принимает список неотрицательных чисел и приводит к целым значениям все числа в этом списке. После этого становится доступен метод count, который считает количество ненулевых элементов, и метод unique, который возвращает число уникальных элементов."
   ]
  },
  {
   "cell_type": "code",
   "execution_count": 12,
   "id": "060d4b4e",
   "metadata": {},
   "outputs": [],
   "source": [
    "class IntDataFrame():\n",
    "    def __init__(self, numbers):\n",
    "        self.numbers = numbers\n",
    "        self.to_int()\n",
    "        \n",
    "    def to_int(self):\n",
    "        self.numbers = [int(number) for number in self.numbers]\n",
    "        \n",
    "    def count(self):\n",
    "        non_zero = 0\n",
    "        for number in self.numbers:\n",
    "            if number != 0:\n",
    "                non_zero += 1\n",
    "        return non_zero\n",
    "    \n",
    "    def unique(self):\n",
    "        return len(set(self.numbers))\n",
    "        "
   ]
  },
  {
   "cell_type": "code",
   "execution_count": 13,
   "id": "8f2ca52b",
   "metadata": {},
   "outputs": [
    {
     "name": "stdout",
     "output_type": "stream",
     "text": [
      "5\n",
      "4\n"
     ]
    }
   ],
   "source": [
    "df = IntDataFrame([4.7, 4, 3, 0, 2.4, 0.3, 4])\n",
    "\n",
    "print(df.count())\n",
    "# => 5\n",
    "print(df.unique())\n",
    "# => 4"
   ]
  },
  {
   "cell_type": "markdown",
   "id": "83ee9004",
   "metadata": {},
   "source": [
    "Напишите класс сборщика технических сообщений OwnLogger.\n",
    "\n",
    "У него должен быть метод log(message, level), который записывает сообщения. Здесь сообщение message может быть любым, а level — один из \"info\", \"warning\", \"error\".\n",
    "Также примените метод show_last(level), где level может быть \"info\", \"warning\", \"error\", \"all\". Для \"all\" он просто возвращает последнее добавленное сообщение, а для остальных — последнее поступившее сообщение соответствующего уровня.\n",
    "При этом по умолчанию значение именно \"all\". Если подходящего сообщения нет, возвращает None.\n",
    "В случае правильного описания класса код, приведённый ниже, должен выдать следующий результат:"
   ]
  },
  {
   "cell_type": "code",
   "execution_count": 14,
   "id": "827726c2",
   "metadata": {},
   "outputs": [],
   "source": [
    "class OwnLogger():\n",
    "    def __init__(self):\n",
    "        self.logs = {\"all\": None, \"info\": None, \"error\": None, \"warning\": None}\n",
    "        \n",
    "    def log(self, message, level):\n",
    "        self.logs[level] = message\n",
    "        self.logs[\"all\"] = message\n",
    "    \n",
    "    def show_last(self, level=\"all\"):\n",
    "        return self.logs[level]"
   ]
  },
  {
   "cell_type": "code",
   "execution_count": 15,
   "id": "7e6d863e",
   "metadata": {},
   "outputs": [],
   "source": [
    "class Dog():\n",
    "    def bark(self):\n",
    "        return \"Bark\"\n",
    "    \n",
    "    def give_paw(self):\n",
    "        return \"Paw\""
   ]
  },
  {
   "cell_type": "code",
   "execution_count": 2,
   "id": "0953792d",
   "metadata": {},
   "outputs": [],
   "source": [
    "import os"
   ]
  },
  {
   "cell_type": "code",
   "execution_count": 3,
   "id": "f8b78e76",
   "metadata": {},
   "outputs": [
    {
     "name": "stdout",
     "output_type": "stream",
     "text": [
      "D:\\Документы\\Настя\\Программирование\\Skillfactory\\new_course\\module_1\n"
     ]
    }
   ],
   "source": [
    "start_path = os.getcwd()\n",
    "print(start_path) "
   ]
  },
  {
   "cell_type": "code",
   "execution_count": 5,
   "id": "e489f782",
   "metadata": {},
   "outputs": [
    {
     "data": {
      "text/plain": [
       "'D:\\\\Документы\\\\Настя\\\\Программирование\\\\Skillfactory\\\\new_course'"
      ]
     },
     "execution_count": 5,
     "metadata": {},
     "output_type": "execute_result"
    }
   ],
   "source": [
    "os.chdir(\"..\") # подняться на один уровень выше\n",
    "os.getcwd()"
   ]
  },
  {
   "cell_type": "code",
   "execution_count": 6,
   "id": "4c8fc567",
   "metadata": {},
   "outputs": [
    {
     "data": {
      "text/plain": [
       "'D:\\\\Документы\\\\Настя\\\\Программирование\\\\Skillfactory\\\\new_course\\\\module_1'"
      ]
     },
     "execution_count": 6,
     "metadata": {},
     "output_type": "execute_result"
    }
   ],
   "source": [
    "os.chdir(start_path)\n",
    "os.getcwd()"
   ]
  },
  {
   "cell_type": "code",
   "execution_count": 7,
   "id": "ded4030c",
   "metadata": {},
   "outputs": [
    {
     "name": "stdout",
     "output_type": "stream",
     "text": [
      "['.ipynb_checkpoints', 'additional_visualization_task.ipynb', 'data', 'data_cleaning.ipynb', 'data_visualization.ipynb', 'numpy.ipynb', 'oop_and_files.ipynb', 'pandas.ipynb', 'summaries', 'Untitled.ipynb']\n"
     ]
    }
   ],
   "source": [
    "print(os.listdir())"
   ]
  },
  {
   "cell_type": "markdown",
   "id": "ced31e80",
   "metadata": {},
   "source": [
    "Для того чтобы склеивать пути с учётом особенностей ОС, следует использовать функцию os.path.join()"
   ]
  },
  {
   "cell_type": "code",
   "execution_count": 8,
   "id": "5f40445e",
   "metadata": {},
   "outputs": [
    {
     "name": "stdout",
     "output_type": "stream",
     "text": [
      "D:\\Документы\\Настя\\Программирование\\Skillfactory\\new_course\\module_1\n",
      "D:\\Документы\\Настя\\Программирование\\Skillfactory\\new_course\\module_1\\test\n"
     ]
    }
   ],
   "source": [
    "print(start_path)\n",
    "print(os.path.join(start_path, 'test'))"
   ]
  },
  {
   "cell_type": "code",
   "execution_count": 13,
   "id": "a5249e42",
   "metadata": {},
   "outputs": [
    {
     "name": "stdout",
     "output_type": "stream",
     "text": [
      "Текущая директория D:\\Документы\\Настя\\Программирование\\Skillfactory\\new_course\\module_1\n",
      "---\n",
      "Список папок ['.ipynb_checkpoints', 'data', 'summaries']\n",
      "---\n",
      "Список файлов ['additional_visualization_task.ipynb', 'data_cleaning.ipynb', 'data_visualization.ipynb', 'numpy.ipynb', 'oop_and_files.ipynb', 'pandas.ipynb']\n",
      "---\n",
      "Текущая директория D:\\Документы\\Настя\\Программирование\\Skillfactory\\new_course\\module_1\\.ipynb_checkpoints\n",
      "---\n",
      "Папок нет\n",
      "---\n",
      "Список файлов ['additional_visualization_task-checkpoint.ipynb', 'data_cleaning-checkpoint.ipynb', 'data_visualization-checkpoint.ipynb', 'numpy-checkpoint.ipynb', 'oop_and_files-checkpoint.ipynb', 'pandas-checkpoint.ipynb']\n",
      "---\n",
      "Текущая директория D:\\Документы\\Настя\\Программирование\\Skillfactory\\new_course\\module_1\\data\n",
      "---\n",
      "Папок нет\n",
      "---\n",
      "Список файлов ['churn.csv', 'citibike-tripdata.csv', 'countries.csv', 'country_vaccinations.csv', 'covid_data.csv', 'dates.csv', 'diabetes_data.csv', 'melb_data.csv', 'melb_data_fe.csv', 'melb_data_ps.csv', 'movies.csv', 'orders.csv', 'products.csv', 'ratings1.csv', 'ratings2.csv', 'ratings_movies.csv', 'sber_data.csv', 'students_performance.csv', 'ufo.csv']\n",
      "---\n",
      "Текущая директория D:\\Документы\\Настя\\Программирование\\Skillfactory\\new_course\\module_1\\summaries\n",
      "---\n",
      "Папок нет\n",
      "---\n",
      "Список файлов ['blood_brain_barrier.jpg', 'data_cleaning.pdf', 'data_visualization.pdf', 'numpy & collections.pdf', 'pandas_advanced.pdf', 'pandas_basics.pdf', 'pandas_introduction.pdf', 'task00.txt']\n",
      "---\n"
     ]
    }
   ],
   "source": [
    "for root, dirs, files in os.walk(start_path):\n",
    "        print(\"Текущая директория\", root)\n",
    "        print(\"---\")\n",
    "\n",
    "        if dirs:\n",
    "            print(\"Список папок\", dirs)\n",
    "        else:\n",
    "            print(\"Папок нет\")\n",
    "        print(\"---\")\n",
    "\n",
    "        if files:\n",
    "            print(\"Список файлов\", files)\n",
    "        else:\n",
    "            print(\"Файлов нет\")\n",
    "        print(\"---\")"
   ]
  },
  {
   "cell_type": "markdown",
   "id": "feac09c8",
   "metadata": {},
   "source": [
    "Создайте любой файл на операционной системе под название input.txt и построчно перепишите его в файл output.txt."
   ]
  },
  {
   "cell_type": "code",
   "execution_count": 15,
   "id": "8ace6753",
   "metadata": {},
   "outputs": [
    {
     "ename": "FileNotFoundError",
     "evalue": "[Errno 2] No such file or directory: 'input.txt'",
     "output_type": "error",
     "traceback": [
      "\u001b[1;31m---------------------------------------------------------------------------\u001b[0m",
      "\u001b[1;31mFileNotFoundError\u001b[0m                         Traceback (most recent call last)",
      "Input \u001b[1;32mIn [15]\u001b[0m, in \u001b[0;36m<cell line: 1>\u001b[1;34m()\u001b[0m\n\u001b[1;32m----> 1\u001b[0m \u001b[38;5;28;01mwith\u001b[39;00m \u001b[38;5;28;43mopen\u001b[39;49m\u001b[43m(\u001b[49m\u001b[38;5;124;43m\"\u001b[39;49m\u001b[38;5;124;43minput.txt\u001b[39;49m\u001b[38;5;124;43m\"\u001b[39;49m\u001b[43m)\u001b[49m \u001b[38;5;28;01mas\u001b[39;00m input_file:\n\u001b[0;32m      2\u001b[0m     \u001b[38;5;28;01mwith\u001b[39;00m \u001b[38;5;28mopen\u001b[39m(\u001b[38;5;124m\"\u001b[39m\u001b[38;5;124moutput.txt\u001b[39m\u001b[38;5;124m\"\u001b[39m, \u001b[38;5;124m\"\u001b[39m\u001b[38;5;124mw\u001b[39m\u001b[38;5;124m\"\u001b[39m) \u001b[38;5;28;01mas\u001b[39;00m output_file:\n\u001b[0;32m      3\u001b[0m         \u001b[38;5;28;01mfor\u001b[39;00m line \u001b[38;5;129;01min\u001b[39;00m input_file:\n",
      "\u001b[1;31mFileNotFoundError\u001b[0m: [Errno 2] No such file or directory: 'input.txt'"
     ]
    }
   ],
   "source": [
    "with open(\"input.txt\", \"r\") as input_file:\n",
    "    with open(\"output.txt\", \"w\") as output_file:\n",
    "        for line in input_file:\n",
    "            output_file.write(line)"
   ]
  },
  {
   "cell_type": "markdown",
   "id": "c9998193",
   "metadata": {},
   "source": [
    "Дан файл numbers.txt, компоненты которого являются действительными числами (файл создайте самостоятельно и заполните любыми числам, в одной строке одно число). Найдите сумму наибольшего и наименьшего из значений и запишите результат в файл output.txt."
   ]
  },
  {
   "cell_type": "code",
   "execution_count": null,
   "id": "0adc9696",
   "metadata": {},
   "outputs": [],
   "source": [
    "filename = 'numbers.txt'\n",
    "output = 'output.txt'\n",
    "\n",
    "with open(filename) as f:\n",
    "    min_ = max_ = float(f.readline())  # считали первое число\n",
    "    for line in f:\n",
    "        num =  float(line)\n",
    "        if num > max_:\n",
    "            max_ = num\n",
    "        elif num < min_:\n",
    "            min_ = num\n",
    "\n",
    "    sum_ = min_ + max_\n",
    "\n",
    "with open(output, 'w') as f:\n",
    "    f.write(str(sum_))\n",
    "    f.write('\\n')"
   ]
  },
  {
   "cell_type": "markdown",
   "id": "a67a64af",
   "metadata": {},
   "source": [
    "В текстовый файл построчно записаны фамилии и имена учащихся класса и их оценки за контрольную. Подсчитайте количество учащихся, чья оценка меньше 3 баллов. Cодержание файла:  \n",
    "Иванов О. 4  \n",
    "Петров И. 3  \n",
    "Дмитриев Н. 2  \n",
    "Смирнова О. 4  \n",
    "Керченских В. 5  \n",
    "Котов Д. 2  \n",
    "Бирюкова Н. 1  \n",
    "Данилов П. 3  \n",
    "Аранских В. 5  \n",
    "Лемонов Ю. 2  \n",
    "Олегова К. 4  "
   ]
  },
  {
   "cell_type": "code",
   "execution_count": null,
   "id": "38f506dc",
   "metadata": {},
   "outputs": [],
   "source": [
    "count = 0\n",
    "for line in open(\"input.txt\"):\n",
    "    points = int(line.split()[-1])\n",
    "    if points < 3:\n",
    "        count += 1"
   ]
  },
  {
   "cell_type": "markdown",
   "id": "5c942e52",
   "metadata": {},
   "source": [
    "Выполните реверсирование строк файла (перестановку строк файла в обратном порядке)."
   ]
  },
  {
   "cell_type": "code",
   "execution_count": 16,
   "id": "f5adf5f7",
   "metadata": {},
   "outputs": [
    {
     "ename": "FileNotFoundError",
     "evalue": "[Errno 2] No such file or directory: 'input.txt'",
     "output_type": "error",
     "traceback": [
      "\u001b[1;31m---------------------------------------------------------------------------\u001b[0m",
      "\u001b[1;31mFileNotFoundError\u001b[0m                         Traceback (most recent call last)",
      "Input \u001b[1;32mIn [16]\u001b[0m, in \u001b[0;36m<cell line: 1>\u001b[1;34m()\u001b[0m\n\u001b[1;32m----> 1\u001b[0m \u001b[38;5;28;01mwith\u001b[39;00m \u001b[38;5;28;43mopen\u001b[39;49m\u001b[43m(\u001b[49m\u001b[38;5;124;43m\"\u001b[39;49m\u001b[38;5;124;43minput.txt\u001b[39;49m\u001b[38;5;124;43m\"\u001b[39;49m\u001b[43m,\u001b[49m\u001b[43m \u001b[49m\u001b[38;5;124;43m\"\u001b[39;49m\u001b[38;5;124;43mr\u001b[39;49m\u001b[38;5;124;43m\"\u001b[39;49m\u001b[43m)\u001b[49m \u001b[38;5;28;01mas\u001b[39;00m input_file:\n\u001b[0;32m      2\u001b[0m     \u001b[38;5;28;01mwith\u001b[39;00m \u001b[38;5;28mopen\u001b[39m(\u001b[38;5;124m\"\u001b[39m\u001b[38;5;124moutput.txt\u001b[39m\u001b[38;5;124m\"\u001b[39m, \u001b[38;5;124m\"\u001b[39m\u001b[38;5;124mw\u001b[39m\u001b[38;5;124m\"\u001b[39m) \u001b[38;5;28;01mas\u001b[39;00m output_file:\n\u001b[0;32m      3\u001b[0m         \u001b[38;5;28;01mfor\u001b[39;00m line \u001b[38;5;129;01min\u001b[39;00m \u001b[38;5;28mreversed\u001b[39m(input_file\u001b[38;5;241m.\u001b[39mreadlines()):\n",
      "\u001b[1;31mFileNotFoundError\u001b[0m: [Errno 2] No such file or directory: 'input.txt'"
     ]
    }
   ],
   "source": [
    "with open(\"input.txt\", \"r\") as input_file:\n",
    "    with open(\"output.txt\", \"w\") as output_file:\n",
    "        for line in reversed(input_file.readlines()):\n",
    "            output_file.write(line)"
   ]
  },
  {
   "cell_type": "markdown",
   "id": "5866ba96",
   "metadata": {},
   "source": [
    "try:  \n",
    "    *ваш код*  \n",
    "except Ошибка:  \n",
    "    *Код отлова*  \n",
    "else:  \n",
    "    *Код, который выполнится если всё хорошо прошло в блоке try*  \n",
    "finally:  \n",
    "    *Код, который выполнится по любому*  "
   ]
  },
  {
   "cell_type": "code",
   "execution_count": 17,
   "id": "8e56e8b2",
   "metadata": {},
   "outputs": [],
   "source": [
    "class ParentException(Exception):\n",
    "    def __init__(self, message, error):  # допишем к нашему пустому классу конструктор, который будет печатать дополнительно в консоль информацию об ошибке.\n",
    "        super().__init__(message)  # помним про вызов конструктора родительского класса\n",
    "        print(f\"Errors: {error}\")  # печатаем ошибку\n",
    "\n",
    " \n",
    "class ChildException(ParentException): # создаём пустой класс исключения-потомка, наследуемся от ParentException\n",
    "    def __init__(self, message, error):\n",
    "        super().__init__(message, error)"
   ]
  },
  {
   "cell_type": "code",
   "execution_count": null,
   "id": "693b8288",
   "metadata": {},
   "outputs": [],
   "source": []
  }
 ],
 "metadata": {
  "kernelspec": {
   "display_name": "Python 3 (ipykernel)",
   "language": "python",
   "name": "python3"
  },
  "language_info": {
   "codemirror_mode": {
    "name": "ipython",
    "version": 3
   },
   "file_extension": ".py",
   "mimetype": "text/x-python",
   "name": "python",
   "nbconvert_exporter": "python",
   "pygments_lexer": "ipython3",
   "version": "3.10.4"
  }
 },
 "nbformat": 4,
 "nbformat_minor": 5
}
