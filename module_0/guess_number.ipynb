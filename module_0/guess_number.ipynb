{
 "cells": [
  {
   "cell_type": "code",
   "execution_count": 53,
   "metadata": {},
   "outputs": [],
   "source": [
    "def binary_search(number):\n",
    "    \"\"\"Нахождение ответа алгоритмом бинпоиска\"\"\"\n",
    "    left, right = 0, 100\n",
    "    count = 0\n",
    "    while True:\n",
    "        med = round((left + right) / 2) # предполагаемое число\n",
    "        count += 1  # увеличиваем счетчик попыток\n",
    "        if number == med:\n",
    "            return count  # отгадали число, возвращаем счетчик\n",
    "        elif number > med:\n",
    "            left = med # если загаданное число больше, увеличиваем нижнюю границу\n",
    "        else:\n",
    "            right = med # иначе уменьшаем верхнюю               \n"
   ]
  },
  {
   "cell_type": "code",
   "execution_count": 54,
   "metadata": {},
   "outputs": [],
   "source": [
    "import numpy as np\n",
    "\n",
    "def score_game():\n",
    "    \"\"\"Запускаем игру 1000 раз, чтобы узнать, как быстро игра угадывает число\"\"\"\n",
    "    count_ls = []\n",
    "    np.random.seed(1)  # фиксируем RANDOM SEED, чтобы эксперимент был воспроизводим!\n",
    "    random_array = np.random.randint(1,101, size=(1000))\n",
    "    for number in random_array: # запускаем binary_search на каждом из сгенерированных чисел\n",
    "        count_ls.append(binary_search(number))\n",
    "    score = np.mean(count_ls) # сколько попыток требуется в среднем\n",
    "    print(f\" Алгоритм угадывает число в среднем за {score} попыток\")"
   ]
  },
  {
   "cell_type": "code",
   "execution_count": 55,
   "metadata": {},
   "outputs": [
    {
     "name": "stdout",
     "output_type": "stream",
     "text": [
      " Алгоритм угадывает число в среднем за 5.833 попыток\n"
     ]
    }
   ],
   "source": [
    "score_game()"
   ]
  }
 ],
 "metadata": {
  "kernelspec": {
   "display_name": "Python 3",
   "language": "python",
   "name": "python3"
  },
  "language_info": {
   "codemirror_mode": {
    "name": "ipython",
    "version": 3
   },
   "file_extension": ".py",
   "mimetype": "text/x-python",
   "name": "python",
   "nbconvert_exporter": "python",
   "pygments_lexer": "ipython3",
   "version": "3.7.4"
  }
 },
 "nbformat": 4,
 "nbformat_minor": 2
}
