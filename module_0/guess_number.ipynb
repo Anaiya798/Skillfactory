{
 "cells": [
  {
   "cell_type": "code",
   "execution_count": 53,
   "metadata": {},
   "outputs": [],
   "source": [
    "def binary_search(number):\n",
    "    \"\"\"Finding answer using binary search algorithm\"\"\"\n",
    "    left, right = 0, 100\n",
    "    count = 0\n",
    "    while True:\n",
    "        med = round((left + right) / 2) # estimated number\n",
    "        count += 1  # increasing attempts counter\n",
    "        if number == med:\n",
    "            return count  # it is guessed number, return counter\n",
    "        elif number > med:\n",
    "            left = med # if guessed number is greater, increase lower bound\n",
    "        else:\n",
    "            right = med # else dicrease upper bound               \n"
   ]
  },
  {
   "cell_type": "code",
   "execution_count": 54,
   "metadata": {},
   "outputs": [],
   "source": [
    "import numpy as np\n",
    "\n",
    "def score_game():\n",
    "    \"\"\"Run the game 1000 times to find out how quickly the game guesses the number\"\"\"\n",
    "    count_ls = []\n",
    "    np.random.seed(1)  # fix RANDOM SEED\n",
    "    random_array = np.random.randint(1,101, size=(1000))\n",
    "    for number in random_array: # run binary_search on each of generated number\n",
    "        count_ls.append(binary_search(number))\n",
    "    score = np.mean(count_ls) # how many attempts we need in average\n",
    "    print(f\" Algorithm guesses a number in  {score} attempts in average\")"
   ]
  },
  {
   "cell_type": "code",
   "execution_count": 55,
   "metadata": {},
   "outputs": [
    {
     "name": "stdout",
     "output_type": "stream",
     "text": [
      "Algorithm guesses a number in  5.833 attempts in average\n"
     ]
    }
   ],
   "source": [
    "score_game()"
   ]
  }
 ],
 "metadata": {
  "kernelspec": {
   "display_name": "Python 3",
   "language": "python",
   "name": "python3"
  },
  "language_info": {
   "codemirror_mode": {
    "name": "ipython",
    "version": 3
   },
   "file_extension": ".py",
   "mimetype": "text/x-python",
   "name": "python",
   "nbconvert_exporter": "python",
   "pygments_lexer": "ipython3",
   "version": "3.7.4"
  }
 },
 "nbformat": 4,
 "nbformat_minor": 2
}
