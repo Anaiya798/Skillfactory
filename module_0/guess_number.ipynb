{
 "cells": [
  {
   "cell_type": "code",
   "execution_count": 8,
   "id": "3b3ae4b7",
   "metadata": {},
   "outputs": [],
   "source": [
    "import numpy as np"
   ]
  },
  {
   "cell_type": "code",
   "execution_count": 9,
   "id": "e728584f",
   "metadata": {},
   "outputs": [],
   "source": [
    "def binary_search(number: int) -> int:\n",
    "    \"\"\"Угадываем число методом двоичного поиска\n",
    "    Args:\n",
    "        number(int): Загаданное число\n",
    "        \n",
    "    Returns:\n",
    "        int: Число попыток\n",
    "    \"\"\"\n",
    "    left, right = 0, 100\n",
    "    count = 0\n",
    "    while True:\n",
    "        med = round((left + right) / 2) # текущее приближение\n",
    "        count += 1  # увеличиваем счетчик попыток\n",
    "        if number == med:\n",
    "            return count  # если число угадано, возвращаем счетчик\n",
    "        elif number > med:\n",
    "            left = med # если загаданное число больше текущего приближения, увеличиваем нижнюю границу\n",
    "        else:\n",
    "            right = med # иначе уменьшаем верхнюю границу "
   ]
  },
  {
   "cell_type": "code",
   "execution_count": 12,
   "id": "ece5c19e",
   "metadata": {},
   "outputs": [],
   "source": [
    "def score_game() -> None:\n",
    "    \"\"\"Запускает процесс игры 1000 раз, чтобы оценить, как быстро угадывается число\n",
    "    Args:\n",
    "        None\n",
    "    Returns:\n",
    "        None\n",
    "    \"\"\"\n",
    "    count_ls = []\n",
    "    np.random.seed(1)  # фиксируем random seed\n",
    "    random_array = np.random.randint(1,101, size=(1000))\n",
    "    for number in random_array: # запускаем двоичный поиск для каждого сгенерированного числа\n",
    "        count_ls.append(binary_search(number))\n",
    "    score = np.mean(count_ls) # сколько попыток требуется в среднем\n",
    "    print(f\" Алгоритм угадывает число в среднем за {score} попыток\")"
   ]
  },
  {
   "cell_type": "code",
   "execution_count": 13,
   "id": "643022db",
   "metadata": {},
   "outputs": [
    {
     "name": "stdout",
     "output_type": "stream",
     "text": [
      " Алгоритм угадывает число в среднем за 5.833 попыток\n"
     ]
    }
   ],
   "source": [
    "score_game()"
   ]
  }
 ],
 "metadata": {
  "kernelspec": {
   "display_name": "Python 3 (ipykernel)",
   "language": "python",
   "name": "python3"
  },
  "language_info": {
   "codemirror_mode": {
    "name": "ipython",
    "version": 3
   },
   "file_extension": ".py",
   "mimetype": "text/x-python",
   "name": "python",
   "nbconvert_exporter": "python",
   "pygments_lexer": "ipython3",
   "version": "3.10.4"
  }
 },
 "nbformat": 4,
 "nbformat_minor": 5
}
