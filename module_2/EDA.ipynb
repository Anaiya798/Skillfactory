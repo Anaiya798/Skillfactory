{
 "cells": [
  {
   "cell_type": "markdown",
   "metadata": {},
   "source": [
    "# Загрузка и первичный осмотр данных"
   ]
  },
  {
   "cell_type": "code",
   "execution_count": 237,
   "metadata": {},
   "outputs": [],
   "source": [
    "import pandas as pd\n",
    "import numpy as np\n",
    "import seaborn as sns\n",
    "import warnings; warnings.simplefilter('ignore')\n",
    "from itertools import combinations\n",
    "from scipy.stats import ttest_ind\n",
    "\n",
    "pd.set_option('display.max_rows', 50) # показывать больше строк\n",
    "pd.set_option('display.max_columns', 50) # показывать больше колонок\n",
    "\n",
    "students = pd.read_csv('stud_math.csv')"
   ]
  },
  {
   "cell_type": "code",
   "execution_count": 238,
   "metadata": {},
   "outputs": [
    {
     "data": {
      "text/html": [
       "<div>\n",
       "<style scoped>\n",
       "    .dataframe tbody tr th:only-of-type {\n",
       "        vertical-align: middle;\n",
       "    }\n",
       "\n",
       "    .dataframe tbody tr th {\n",
       "        vertical-align: top;\n",
       "    }\n",
       "\n",
       "    .dataframe thead th {\n",
       "        text-align: right;\n",
       "    }\n",
       "</style>\n",
       "<table border=\"1\" class=\"dataframe\">\n",
       "  <thead>\n",
       "    <tr style=\"text-align: right;\">\n",
       "      <th></th>\n",
       "      <th>school</th>\n",
       "      <th>sex</th>\n",
       "      <th>age</th>\n",
       "      <th>address</th>\n",
       "      <th>famsize</th>\n",
       "      <th>Pstatus</th>\n",
       "      <th>Medu</th>\n",
       "      <th>Fedu</th>\n",
       "      <th>Mjob</th>\n",
       "      <th>Fjob</th>\n",
       "      <th>reason</th>\n",
       "      <th>guardian</th>\n",
       "      <th>traveltime</th>\n",
       "      <th>studytime</th>\n",
       "      <th>failures</th>\n",
       "      <th>schoolsup</th>\n",
       "      <th>famsup</th>\n",
       "      <th>paid</th>\n",
       "      <th>activities</th>\n",
       "      <th>nursery</th>\n",
       "      <th>studytime, granular</th>\n",
       "      <th>higher</th>\n",
       "      <th>internet</th>\n",
       "      <th>romantic</th>\n",
       "      <th>famrel</th>\n",
       "      <th>freetime</th>\n",
       "      <th>goout</th>\n",
       "      <th>health</th>\n",
       "      <th>absences</th>\n",
       "      <th>score</th>\n",
       "    </tr>\n",
       "  </thead>\n",
       "  <tbody>\n",
       "    <tr>\n",
       "      <td>0</td>\n",
       "      <td>GP</td>\n",
       "      <td>F</td>\n",
       "      <td>18</td>\n",
       "      <td>U</td>\n",
       "      <td>NaN</td>\n",
       "      <td>A</td>\n",
       "      <td>4.0</td>\n",
       "      <td>4.0</td>\n",
       "      <td>at_home</td>\n",
       "      <td>teacher</td>\n",
       "      <td>course</td>\n",
       "      <td>mother</td>\n",
       "      <td>2.0</td>\n",
       "      <td>2.0</td>\n",
       "      <td>0.0</td>\n",
       "      <td>yes</td>\n",
       "      <td>no</td>\n",
       "      <td>no</td>\n",
       "      <td>no</td>\n",
       "      <td>yes</td>\n",
       "      <td>-6.0</td>\n",
       "      <td>yes</td>\n",
       "      <td>NaN</td>\n",
       "      <td>no</td>\n",
       "      <td>4.0</td>\n",
       "      <td>3.0</td>\n",
       "      <td>4.0</td>\n",
       "      <td>3.0</td>\n",
       "      <td>6.0</td>\n",
       "      <td>30.0</td>\n",
       "    </tr>\n",
       "    <tr>\n",
       "      <td>1</td>\n",
       "      <td>GP</td>\n",
       "      <td>F</td>\n",
       "      <td>17</td>\n",
       "      <td>U</td>\n",
       "      <td>GT3</td>\n",
       "      <td>NaN</td>\n",
       "      <td>1.0</td>\n",
       "      <td>1.0</td>\n",
       "      <td>at_home</td>\n",
       "      <td>other</td>\n",
       "      <td>course</td>\n",
       "      <td>father</td>\n",
       "      <td>1.0</td>\n",
       "      <td>2.0</td>\n",
       "      <td>0.0</td>\n",
       "      <td>no</td>\n",
       "      <td>yes</td>\n",
       "      <td>no</td>\n",
       "      <td>no</td>\n",
       "      <td>no</td>\n",
       "      <td>-6.0</td>\n",
       "      <td>yes</td>\n",
       "      <td>yes</td>\n",
       "      <td>no</td>\n",
       "      <td>5.0</td>\n",
       "      <td>3.0</td>\n",
       "      <td>3.0</td>\n",
       "      <td>3.0</td>\n",
       "      <td>4.0</td>\n",
       "      <td>30.0</td>\n",
       "    </tr>\n",
       "    <tr>\n",
       "      <td>2</td>\n",
       "      <td>GP</td>\n",
       "      <td>F</td>\n",
       "      <td>15</td>\n",
       "      <td>U</td>\n",
       "      <td>LE3</td>\n",
       "      <td>T</td>\n",
       "      <td>1.0</td>\n",
       "      <td>1.0</td>\n",
       "      <td>at_home</td>\n",
       "      <td>other</td>\n",
       "      <td>other</td>\n",
       "      <td>mother</td>\n",
       "      <td>1.0</td>\n",
       "      <td>2.0</td>\n",
       "      <td>3.0</td>\n",
       "      <td>yes</td>\n",
       "      <td>no</td>\n",
       "      <td>NaN</td>\n",
       "      <td>no</td>\n",
       "      <td>yes</td>\n",
       "      <td>-6.0</td>\n",
       "      <td>yes</td>\n",
       "      <td>yes</td>\n",
       "      <td>NaN</td>\n",
       "      <td>4.0</td>\n",
       "      <td>3.0</td>\n",
       "      <td>2.0</td>\n",
       "      <td>3.0</td>\n",
       "      <td>10.0</td>\n",
       "      <td>50.0</td>\n",
       "    </tr>\n",
       "    <tr>\n",
       "      <td>3</td>\n",
       "      <td>GP</td>\n",
       "      <td>F</td>\n",
       "      <td>15</td>\n",
       "      <td>U</td>\n",
       "      <td>GT3</td>\n",
       "      <td>T</td>\n",
       "      <td>4.0</td>\n",
       "      <td>2.0</td>\n",
       "      <td>health</td>\n",
       "      <td>NaN</td>\n",
       "      <td>home</td>\n",
       "      <td>mother</td>\n",
       "      <td>1.0</td>\n",
       "      <td>3.0</td>\n",
       "      <td>0.0</td>\n",
       "      <td>no</td>\n",
       "      <td>yes</td>\n",
       "      <td>yes</td>\n",
       "      <td>yes</td>\n",
       "      <td>yes</td>\n",
       "      <td>-9.0</td>\n",
       "      <td>yes</td>\n",
       "      <td>yes</td>\n",
       "      <td>yes</td>\n",
       "      <td>3.0</td>\n",
       "      <td>2.0</td>\n",
       "      <td>2.0</td>\n",
       "      <td>5.0</td>\n",
       "      <td>2.0</td>\n",
       "      <td>75.0</td>\n",
       "    </tr>\n",
       "    <tr>\n",
       "      <td>4</td>\n",
       "      <td>GP</td>\n",
       "      <td>F</td>\n",
       "      <td>16</td>\n",
       "      <td>U</td>\n",
       "      <td>GT3</td>\n",
       "      <td>T</td>\n",
       "      <td>3.0</td>\n",
       "      <td>3.0</td>\n",
       "      <td>other</td>\n",
       "      <td>other</td>\n",
       "      <td>home</td>\n",
       "      <td>father</td>\n",
       "      <td>1.0</td>\n",
       "      <td>2.0</td>\n",
       "      <td>0.0</td>\n",
       "      <td>no</td>\n",
       "      <td>yes</td>\n",
       "      <td>yes</td>\n",
       "      <td>no</td>\n",
       "      <td>yes</td>\n",
       "      <td>-6.0</td>\n",
       "      <td>yes</td>\n",
       "      <td>no</td>\n",
       "      <td>no</td>\n",
       "      <td>4.0</td>\n",
       "      <td>3.0</td>\n",
       "      <td>2.0</td>\n",
       "      <td>5.0</td>\n",
       "      <td>4.0</td>\n",
       "      <td>50.0</td>\n",
       "    </tr>\n",
       "  </tbody>\n",
       "</table>\n",
       "</div>"
      ],
      "text/plain": [
       "  school sex  age address famsize Pstatus  Medu  Fedu     Mjob     Fjob  \\\n",
       "0     GP   F   18       U     NaN       A   4.0   4.0  at_home  teacher   \n",
       "1     GP   F   17       U     GT3     NaN   1.0   1.0  at_home    other   \n",
       "2     GP   F   15       U     LE3       T   1.0   1.0  at_home    other   \n",
       "3     GP   F   15       U     GT3       T   4.0   2.0   health      NaN   \n",
       "4     GP   F   16       U     GT3       T   3.0   3.0    other    other   \n",
       "\n",
       "   reason guardian  traveltime  studytime  failures schoolsup famsup paid  \\\n",
       "0  course   mother         2.0        2.0       0.0       yes     no   no   \n",
       "1  course   father         1.0        2.0       0.0        no    yes   no   \n",
       "2   other   mother         1.0        2.0       3.0       yes     no  NaN   \n",
       "3    home   mother         1.0        3.0       0.0        no    yes  yes   \n",
       "4    home   father         1.0        2.0       0.0        no    yes  yes   \n",
       "\n",
       "  activities nursery  studytime, granular higher internet romantic  famrel  \\\n",
       "0         no     yes                 -6.0    yes      NaN       no     4.0   \n",
       "1         no      no                 -6.0    yes      yes       no     5.0   \n",
       "2         no     yes                 -6.0    yes      yes      NaN     4.0   \n",
       "3        yes     yes                 -9.0    yes      yes      yes     3.0   \n",
       "4         no     yes                 -6.0    yes       no       no     4.0   \n",
       "\n",
       "   freetime  goout  health  absences  score  \n",
       "0       3.0    4.0     3.0       6.0   30.0  \n",
       "1       3.0    3.0     3.0       4.0   30.0  \n",
       "2       3.0    2.0     3.0      10.0   50.0  \n",
       "3       2.0    2.0     5.0       2.0   75.0  \n",
       "4       3.0    2.0     5.0       4.0   50.0  "
      ]
     },
     "execution_count": 238,
     "metadata": {},
     "output_type": "execute_result"
    }
   ],
   "source": [
    "students.head()"
   ]
  },
  {
   "cell_type": "code",
   "execution_count": 239,
   "metadata": {},
   "outputs": [
    {
     "name": "stdout",
     "output_type": "stream",
     "text": [
      "<class 'pandas.core.frame.DataFrame'>\n",
      "RangeIndex: 395 entries, 0 to 394\n",
      "Data columns (total 30 columns):\n",
      "school                 395 non-null object\n",
      "sex                    395 non-null object\n",
      "age                    395 non-null int64\n",
      "address                378 non-null object\n",
      "famsize                368 non-null object\n",
      "Pstatus                350 non-null object\n",
      "Medu                   392 non-null float64\n",
      "Fedu                   371 non-null float64\n",
      "Mjob                   376 non-null object\n",
      "Fjob                   359 non-null object\n",
      "reason                 378 non-null object\n",
      "guardian               364 non-null object\n",
      "traveltime             367 non-null float64\n",
      "studytime              388 non-null float64\n",
      "failures               373 non-null float64\n",
      "schoolsup              386 non-null object\n",
      "famsup                 356 non-null object\n",
      "paid                   355 non-null object\n",
      "activities             381 non-null object\n",
      "nursery                379 non-null object\n",
      "studytime, granular    388 non-null float64\n",
      "higher                 375 non-null object\n",
      "internet               361 non-null object\n",
      "romantic               364 non-null object\n",
      "famrel                 368 non-null float64\n",
      "freetime               384 non-null float64\n",
      "goout                  387 non-null float64\n",
      "health                 380 non-null float64\n",
      "absences               383 non-null float64\n",
      "score                  389 non-null float64\n",
      "dtypes: float64(12), int64(1), object(17)\n",
      "memory usage: 92.7+ KB\n"
     ]
    }
   ],
   "source": [
    "students.info()"
   ]
  },
  {
   "cell_type": "markdown",
   "metadata": {},
   "source": [
    "# Функции для обработки данных"
   ]
  },
  {
   "cell_type": "code",
   "execution_count": 240,
   "metadata": {},
   "outputs": [],
   "source": [
    "# заполнение пустых ячеек столбцов\n",
    "def replace_empty_values(column: pd.Series):\n",
    "    column.replace(\"\", np.nan, inplace=True)"
   ]
  },
  {
   "cell_type": "code",
   "execution_count": 241,
   "metadata": {},
   "outputs": [],
   "source": [
    "# подсчитываем статистические данные, которые дополняют картину при анализе графиков: 1-ый и 3-ий квартили, границы выбросов\n",
    "def main_stat(column: pd.Series):\n",
    "    perc25 = column.quantile(0.25)\n",
    "    perc75 = column.quantile(0.75)\n",
    "    IQR = perc75 - perc25\n",
    "    print(f' 1-ый квартиль: {perc25}, 3-ий квартиль: {perc75}, IQR: {IQR}. Границы выбросов: [{perc25 - 1.5*IQR}, {perc75 + 1.5*IQR}]')"
   ]
  },
  {
   "cell_type": "code",
   "execution_count": 242,
   "metadata": {},
   "outputs": [],
   "source": [
    "# находим статистически значимые различия\n",
    "def get_stat_dif(column):\n",
    "    cols = students.loc[:, column].value_counts().index[:10]\n",
    "    combinations_all = list(combinations(cols, 2))\n",
    "    for comb in combinations_all:\n",
    "        if ttest_ind(students.loc[students.loc[:, column] == comb[0], 'score'], \n",
    "                        students.loc[students.loc[:, column] == comb[1], 'score']).pvalue \\\n",
    "            <= 0.05/len(combinations_all): # Учли поправку Бонферони\n",
    "            print('Найдены статистически значимые различия для столбца', column)\n",
    "            break"
   ]
  },
  {
   "cell_type": "markdown",
   "metadata": {},
   "source": [
    "# Предобработка данных"
   ]
  },
  {
   "cell_type": "code",
   "execution_count": 243,
   "metadata": {},
   "outputs": [
    {
     "name": "stdout",
     "output_type": "stream",
     "text": [
      "-0.9999999999999991\n"
     ]
    }
   ],
   "source": [
    "# гипотеза: столбцы \"studytime\" и \"studytime, granular\" полностью скоррелированы \n",
    "print(students.studytime.corr(students['studytime, granular']))"
   ]
  },
  {
   "cell_type": "code",
   "execution_count": 244,
   "metadata": {},
   "outputs": [],
   "source": [
    "# удалим лишний столбец\n",
    "students.drop(['studytime, granular'], inplace=True, axis=1)\n"
   ]
  },
  {
   "cell_type": "code",
   "execution_count": 245,
   "metadata": {},
   "outputs": [],
   "source": [
    "# удалим пустые ячейки в столбце score: вряд ли понадобятся для обучения модели\n",
    "students.dropna(axis=0, how=\"any\", subset=[\"score\"], inplace=True)"
   ]
  },
  {
   "cell_type": "code",
   "execution_count": 246,
   "metadata": {},
   "outputs": [],
   "source": [
    "# заполним пустые ячейки столбцов\n",
    "for column in students.columns:\n",
    "    replace_empty_values(column=students[column])"
   ]
  },
  {
   "cell_type": "code",
   "execution_count": 247,
   "metadata": {},
   "outputs": [],
   "source": [
    "# переименуем столбцы датасета для удобства\n",
    "new_columns_names = {\n",
    "    'famsize'    : 'family_size',\n",
    "    'Pstatus'    : 'parents_marriage_status',\n",
    "    'Medu'       : 'mother_education',\n",
    "    'Fedu'       : 'father_education',\n",
    "    'Mjob'       : 'mother_job',\n",
    "    'Fjob'       : 'father_job',\n",
    "    'reason'     : 'school_choice_reason',\n",
    "    'traveltime' : 'travel_time',\n",
    "    'failures'   : 'non_study_failures',\n",
    "    'studytime'  : 'study_time',\n",
    "    'schoolsup'  : 'school_educational_support',\n",
    "    'famsup'     : 'family_educational_support',\n",
    "    'paid'       : 'maths_tutor',\n",
    "    'activities' : 'extra_activities',\n",
    "    'higher'     : 'want_higher_education',\n",
    "    'famrel'     : 'family_relations',\n",
    "    \n",
    "}\n",
    "\n",
    "students.rename(columns=new_columns_names, inplace=True)"
   ]
  },
  {
   "cell_type": "markdown",
   "metadata": {},
   "source": [
    "# Анализ данных"
   ]
  },
  {
   "cell_type": "markdown",
   "metadata": {},
   "source": [
    "## school - аббревиатура школы, в которой учится ученик"
   ]
  },
  {
   "cell_type": "code",
   "execution_count": 248,
   "metadata": {},
   "outputs": [
    {
     "data": {
      "text/html": [
       "<div>\n",
       "<style scoped>\n",
       "    .dataframe tbody tr th:only-of-type {\n",
       "        vertical-align: middle;\n",
       "    }\n",
       "\n",
       "    .dataframe tbody tr th {\n",
       "        vertical-align: top;\n",
       "    }\n",
       "\n",
       "    .dataframe thead th {\n",
       "        text-align: right;\n",
       "    }\n",
       "</style>\n",
       "<table border=\"1\" class=\"dataframe\">\n",
       "  <thead>\n",
       "    <tr style=\"text-align: right;\">\n",
       "      <th></th>\n",
       "      <th>school</th>\n",
       "    </tr>\n",
       "  </thead>\n",
       "  <tbody>\n",
       "    <tr>\n",
       "      <td>GP</td>\n",
       "      <td>0.884319</td>\n",
       "    </tr>\n",
       "    <tr>\n",
       "      <td>MS</td>\n",
       "      <td>0.115681</td>\n",
       "    </tr>\n",
       "  </tbody>\n",
       "</table>\n",
       "</div>"
      ],
      "text/plain": [
       "      school\n",
       "GP  0.884319\n",
       "MS  0.115681"
      ]
     },
     "metadata": {},
     "output_type": "display_data"
    }
   ],
   "source": [
    "display(pd.DataFrame(students.school.value_counts(dropna=False, normalize=True)))"
   ]
  },
  {
   "cell_type": "markdown",
   "metadata": {},
   "source": [
    "Как видим, в данном столбце пропусков нет."
   ]
  },
  {
   "cell_type": "markdown",
   "metadata": {},
   "source": [
    "## sex - пол ученика ('F' - женский, 'M' - мужской)"
   ]
  },
  {
   "cell_type": "code",
   "execution_count": 249,
   "metadata": {},
   "outputs": [
    {
     "data": {
      "text/html": [
       "<div>\n",
       "<style scoped>\n",
       "    .dataframe tbody tr th:only-of-type {\n",
       "        vertical-align: middle;\n",
       "    }\n",
       "\n",
       "    .dataframe tbody tr th {\n",
       "        vertical-align: top;\n",
       "    }\n",
       "\n",
       "    .dataframe thead th {\n",
       "        text-align: right;\n",
       "    }\n",
       "</style>\n",
       "<table border=\"1\" class=\"dataframe\">\n",
       "  <thead>\n",
       "    <tr style=\"text-align: right;\">\n",
       "      <th></th>\n",
       "      <th>sex</th>\n",
       "    </tr>\n",
       "  </thead>\n",
       "  <tbody>\n",
       "    <tr>\n",
       "      <td>F</td>\n",
       "      <td>0.524422</td>\n",
       "    </tr>\n",
       "    <tr>\n",
       "      <td>M</td>\n",
       "      <td>0.475578</td>\n",
       "    </tr>\n",
       "  </tbody>\n",
       "</table>\n",
       "</div>"
      ],
      "text/plain": [
       "        sex\n",
       "F  0.524422\n",
       "M  0.475578"
      ]
     },
     "metadata": {},
     "output_type": "display_data"
    }
   ],
   "source": [
    "display(pd.DataFrame(students.sex.value_counts(dropna=False, normalize=True)))"
   ]
  },
  {
   "cell_type": "markdown",
   "metadata": {},
   "source": [
    "Снова нет пропусков, идем дальше."
   ]
  },
  {
   "cell_type": "markdown",
   "metadata": {},
   "source": [
    "## age - возраст ученика (от 15 до 22)"
   ]
  },
  {
   "cell_type": "code",
   "execution_count": 250,
   "metadata": {},
   "outputs": [
    {
     "data": {
      "text/html": [
       "<div>\n",
       "<style scoped>\n",
       "    .dataframe tbody tr th:only-of-type {\n",
       "        vertical-align: middle;\n",
       "    }\n",
       "\n",
       "    .dataframe tbody tr th {\n",
       "        vertical-align: top;\n",
       "    }\n",
       "\n",
       "    .dataframe thead th {\n",
       "        text-align: right;\n",
       "    }\n",
       "</style>\n",
       "<table border=\"1\" class=\"dataframe\">\n",
       "  <thead>\n",
       "    <tr style=\"text-align: right;\">\n",
       "      <th></th>\n",
       "      <th>age</th>\n",
       "    </tr>\n",
       "  </thead>\n",
       "  <tbody>\n",
       "    <tr>\n",
       "      <td>16</td>\n",
       "      <td>0.264781</td>\n",
       "    </tr>\n",
       "    <tr>\n",
       "      <td>17</td>\n",
       "      <td>0.251928</td>\n",
       "    </tr>\n",
       "    <tr>\n",
       "      <td>15</td>\n",
       "      <td>0.210797</td>\n",
       "    </tr>\n",
       "    <tr>\n",
       "      <td>18</td>\n",
       "      <td>0.205656</td>\n",
       "    </tr>\n",
       "    <tr>\n",
       "      <td>19</td>\n",
       "      <td>0.053985</td>\n",
       "    </tr>\n",
       "    <tr>\n",
       "      <td>20</td>\n",
       "      <td>0.007712</td>\n",
       "    </tr>\n",
       "    <tr>\n",
       "      <td>22</td>\n",
       "      <td>0.002571</td>\n",
       "    </tr>\n",
       "    <tr>\n",
       "      <td>21</td>\n",
       "      <td>0.002571</td>\n",
       "    </tr>\n",
       "  </tbody>\n",
       "</table>\n",
       "</div>"
      ],
      "text/plain": [
       "         age\n",
       "16  0.264781\n",
       "17  0.251928\n",
       "15  0.210797\n",
       "18  0.205656\n",
       "19  0.053985\n",
       "20  0.007712\n",
       "22  0.002571\n",
       "21  0.002571"
      ]
     },
     "metadata": {},
     "output_type": "display_data"
    }
   ],
   "source": [
    "display(pd.DataFrame(students.age.value_counts(dropna=False, normalize=True)))"
   ]
  },
  {
   "cell_type": "markdown",
   "metadata": {},
   "source": [
    "Пропусков снова нет. Проверим на наличие выбросов:"
   ]
  },
  {
   "cell_type": "code",
   "execution_count": 251,
   "metadata": {},
   "outputs": [
    {
     "name": "stdout",
     "output_type": "stream",
     "text": [
      " 1-ый квартиль: 16.0, 3-ий квартиль: 18.0, IQR: 2.0. Границы выбросов: [13.0, 21.0]\n"
     ]
    },
    {
     "data": {
      "image/png": "[encoded data removed]",
      "text/plain": [
       "<Figure size 432x288 with 1 Axes>"
      ]
     },
     "metadata": {
      "needs_background": "light"
     },
     "output_type": "display_data"
    }
   ],
   "source": [
    "sns.boxplot('age',  data = students)\n",
    "main_stat(students.age)"
   ]
  },
  {
   "cell_type": "markdown",
   "metadata": {},
   "source": [
    "Хотя формально выбросом является только значение 22, здравый смысл говорит, что возраст школьников > 18 уже вызывает подозрение. Если возраст 19 лет еще допустим (ребенок мог пойти в школу в 8 лет или остаться на 2-ой год), то возраст 20 лет и более выглядит совсем неправдоподобным. Судя по тому, что таких учеников очень мало, вряд ли речь идет о стране,  где обучение длится более 11 лет. Возможно, это дети, имеющие заболевания, препятствующие нормальному умственному развитию, или особо \"трудные\" подростки, которым в принципе нужен индивидуальный подход к обучению. Не будем учитывать их в общей статистике:"
   ]
  },
  {
   "cell_type": "code",
   "execution_count": 252,
   "metadata": {},
   "outputs": [],
   "source": [
    "students = students.loc[students.age <= 19]"
   ]
  },
  {
   "cell_type": "markdown",
   "metadata": {},
   "source": [
    "## address - тип адреса ученика ('U' - городской, 'R' - за городом)"
   ]
  },
  {
   "cell_type": "code",
   "execution_count": 253,
   "metadata": {},
   "outputs": [
    {
     "data": {
      "text/html": [
       "<div>\n",
       "<style scoped>\n",
       "    .dataframe tbody tr th:only-of-type {\n",
       "        vertical-align: middle;\n",
       "    }\n",
       "\n",
       "    .dataframe tbody tr th {\n",
       "        vertical-align: top;\n",
       "    }\n",
       "\n",
       "    .dataframe thead th {\n",
       "        text-align: right;\n",
       "    }\n",
       "</style>\n",
       "<table border=\"1\" class=\"dataframe\">\n",
       "  <thead>\n",
       "    <tr style=\"text-align: right;\">\n",
       "      <th></th>\n",
       "      <th>address</th>\n",
       "    </tr>\n",
       "  </thead>\n",
       "  <tbody>\n",
       "    <tr>\n",
       "      <td>U</td>\n",
       "      <td>0.750000</td>\n",
       "    </tr>\n",
       "    <tr>\n",
       "      <td>R</td>\n",
       "      <td>0.213542</td>\n",
       "    </tr>\n",
       "    <tr>\n",
       "      <td>NaN</td>\n",
       "      <td>0.036458</td>\n",
       "    </tr>\n",
       "  </tbody>\n",
       "</table>\n",
       "</div>"
      ],
      "text/plain": [
       "      address\n",
       "U    0.750000\n",
       "R    0.213542\n",
       "NaN  0.036458"
      ]
     },
     "metadata": {},
     "output_type": "display_data"
    }
   ],
   "source": [
    "display(pd.DataFrame(students.address.value_counts(dropna=False, normalize=True)))"
   ]
  },
  {
   "cell_type": "markdown",
   "metadata": {},
   "source": [
    "Около 4% данных в столбце пропущены. Гипотеза: можно предположить, что школьники, живущие за городом, добираются на учебу долго(> 30 мин), и за счет этого заполнить пропуски."
   ]
  },
  {
   "cell_type": "code",
   "execution_count": 254,
   "metadata": {},
   "outputs": [
    {
     "name": "stdout",
     "output_type": "stream",
     "text": [
      "R    16\n",
      "U    12\n",
      "Name: address, dtype: int64\n"
     ]
    }
   ],
   "source": [
    "print(students.address[students.travel_time >= 3].value_counts(dropna=False))"
   ]
  },
  {
   "cell_type": "code",
   "execution_count": 255,
   "metadata": {},
   "outputs": [
    {
     "name": "stdout",
     "output_type": "stream",
     "text": [
      "U      258\n",
      "R       59\n",
      "NaN     11\n",
      "Name: address, dtype: int64\n"
     ]
    }
   ],
   "source": [
    "print(students.address[students.travel_time <= 2].value_counts(dropna=False))"
   ]
  },
  {
   "cell_type": "markdown",
   "metadata": {},
   "source": [
    "Как видим, гипотеза не подтвердилась: есть школьники, которые живут за городом, а добираются до школы быстро, причем таких большинство по отношению к общему количеству живущих за городом. При этом среди живущих в городе тоже есть те, кто добирапется долго. Возможно, школа расположена где-то на окраине"
   ]
  },
  {
   "cell_type": "markdown",
   "metadata": {},
   "source": [
    "## family_size — размер семьи('LE3' <= 3, 'GT3' >3)"
   ]
  },
  {
   "cell_type": "code",
   "execution_count": 256,
   "metadata": {},
   "outputs": [
    {
     "data": {
      "text/html": [
       "<div>\n",
       "<style scoped>\n",
       "    .dataframe tbody tr th:only-of-type {\n",
       "        vertical-align: middle;\n",
       "    }\n",
       "\n",
       "    .dataframe tbody tr th {\n",
       "        vertical-align: top;\n",
       "    }\n",
       "\n",
       "    .dataframe thead th {\n",
       "        text-align: right;\n",
       "    }\n",
       "</style>\n",
       "<table border=\"1\" class=\"dataframe\">\n",
       "  <thead>\n",
       "    <tr style=\"text-align: right;\">\n",
       "      <th></th>\n",
       "      <th>family_size</th>\n",
       "    </tr>\n",
       "  </thead>\n",
       "  <tbody>\n",
       "    <tr>\n",
       "      <td>GT3</td>\n",
       "      <td>0.653646</td>\n",
       "    </tr>\n",
       "    <tr>\n",
       "      <td>LE3</td>\n",
       "      <td>0.276042</td>\n",
       "    </tr>\n",
       "    <tr>\n",
       "      <td>NaN</td>\n",
       "      <td>0.070312</td>\n",
       "    </tr>\n",
       "  </tbody>\n",
       "</table>\n",
       "</div>"
      ],
      "text/plain": [
       "     family_size\n",
       "GT3     0.653646\n",
       "LE3     0.276042\n",
       "NaN     0.070312"
      ]
     },
     "metadata": {},
     "output_type": "display_data"
    }
   ],
   "source": [
    "display(pd.DataFrame(students.family_size.value_counts(dropna=False, normalize=True)))"
   ]
  },
  {
   "cell_type": "markdown",
   "metadata": {},
   "source": [
    "Около 7% данных в столбце пропущены. Пока оставим, как есть (оптимальное значение для пропусков неочевидно)."
   ]
  },
  {
   "cell_type": "markdown",
   "metadata": {},
   "source": [
    "##  parents_marriage_status — статус совместного жилья родителей ('T' - живут вместе 'A' - раздельно)"
   ]
  },
  {
   "cell_type": "code",
   "execution_count": 257,
   "metadata": {},
   "outputs": [
    {
     "data": {
      "text/html": [
       "<div>\n",
       "<style scoped>\n",
       "    .dataframe tbody tr th:only-of-type {\n",
       "        vertical-align: middle;\n",
       "    }\n",
       "\n",
       "    .dataframe tbody tr th {\n",
       "        vertical-align: top;\n",
       "    }\n",
       "\n",
       "    .dataframe thead th {\n",
       "        text-align: right;\n",
       "    }\n",
       "</style>\n",
       "<table border=\"1\" class=\"dataframe\">\n",
       "  <thead>\n",
       "    <tr style=\"text-align: right;\">\n",
       "      <th></th>\n",
       "      <th>parents_marriage_status</th>\n",
       "    </tr>\n",
       "  </thead>\n",
       "  <tbody>\n",
       "    <tr>\n",
       "      <td>T</td>\n",
       "      <td>0.794271</td>\n",
       "    </tr>\n",
       "    <tr>\n",
       "      <td>NaN</td>\n",
       "      <td>0.117188</td>\n",
       "    </tr>\n",
       "    <tr>\n",
       "      <td>A</td>\n",
       "      <td>0.088542</td>\n",
       "    </tr>\n",
       "  </tbody>\n",
       "</table>\n",
       "</div>"
      ],
      "text/plain": [
       "     parents_marriage_status\n",
       "T                   0.794271\n",
       "NaN                 0.117188\n",
       "A                   0.088542"
      ]
     },
     "metadata": {},
     "output_type": "display_data"
    }
   ],
   "source": [
    "display(pd.DataFrame(students.parents_marriage_status.value_counts(dropna=False, normalize=True)))"
   ]
  },
  {
   "cell_type": "markdown",
   "metadata": {},
   "source": [
    "Около 12% данных в столбце пропущены. Пока оставим, как есть (оптимальное значение для пропусков неочевидно)."
   ]
  },
  {
   "cell_type": "markdown",
   "metadata": {},
   "source": [
    "## mother_education — образование матери (0 - нет, 1 - 4 класса, 2 - 5-9 классы, 3 - среднее специальное или 11 классов, 4 - высшее)"
   ]
  },
  {
   "cell_type": "code",
   "execution_count": 258,
   "metadata": {},
   "outputs": [
    {
     "data": {
      "text/html": [
       "<div>\n",
       "<style scoped>\n",
       "    .dataframe tbody tr th:only-of-type {\n",
       "        vertical-align: middle;\n",
       "    }\n",
       "\n",
       "    .dataframe tbody tr th {\n",
       "        vertical-align: top;\n",
       "    }\n",
       "\n",
       "    .dataframe thead th {\n",
       "        text-align: right;\n",
       "    }\n",
       "</style>\n",
       "<table border=\"1\" class=\"dataframe\">\n",
       "  <thead>\n",
       "    <tr style=\"text-align: right;\">\n",
       "      <th></th>\n",
       "      <th>mother_education</th>\n",
       "    </tr>\n",
       "  </thead>\n",
       "  <tbody>\n",
       "    <tr>\n",
       "      <td>4.0</td>\n",
       "      <td>0.338542</td>\n",
       "    </tr>\n",
       "    <tr>\n",
       "      <td>2.0</td>\n",
       "      <td>0.257812</td>\n",
       "    </tr>\n",
       "    <tr>\n",
       "      <td>3.0</td>\n",
       "      <td>0.244792</td>\n",
       "    </tr>\n",
       "    <tr>\n",
       "      <td>1.0</td>\n",
       "      <td>0.143229</td>\n",
       "    </tr>\n",
       "    <tr>\n",
       "      <td>0.0</td>\n",
       "      <td>0.007812</td>\n",
       "    </tr>\n",
       "    <tr>\n",
       "      <td>NaN</td>\n",
       "      <td>0.007812</td>\n",
       "    </tr>\n",
       "  </tbody>\n",
       "</table>\n",
       "</div>"
      ],
      "text/plain": [
       "     mother_education\n",
       "4.0          0.338542\n",
       "2.0          0.257812\n",
       "3.0          0.244792\n",
       "1.0          0.143229\n",
       "0.0          0.007812\n",
       "NaN          0.007812"
      ]
     },
     "metadata": {},
     "output_type": "display_data"
    }
   ],
   "source": [
    "display(pd.DataFrame(students.mother_education.value_counts(dropna=False, normalize=True)))"
   ]
  },
  {
   "cell_type": "markdown",
   "metadata": {},
   "source": [
    "Менее 1% данных в столбце пропущены. Пока оставим, как есть (оптимальное значение для пропусков неочевидно). Проверим на наличие выбросов:"
   ]
  },
  {
   "cell_type": "code",
   "execution_count": 259,
   "metadata": {},
   "outputs": [
    {
     "name": "stdout",
     "output_type": "stream",
     "text": [
      " 1-ый квартиль: 2.0, 3-ий квартиль: 4.0, IQR: 2.0. Границы выбросов: [-1.0, 7.0]\n"
     ]
    },
    {
     "data": {
      "image/png": "[encoded data removed]",
      "text/plain": [
       "<Figure size 432x288 with 1 Axes>"
      ]
     },
     "metadata": {
      "needs_background": "light"
     },
     "output_type": "display_data"
    }
   ],
   "source": [
    "sns.boxplot('mother_education',  data = students)\n",
    "main_stat(students.mother_education)"
   ]
  },
  {
   "cell_type": "markdown",
   "metadata": {},
   "source": [
    "Выбросов здесь не наблюдается."
   ]
  },
  {
   "cell_type": "markdown",
   "metadata": {},
   "source": [
    "## father_education — образование отца (0 - нет, 1 - 4 класса, 2 - 5-9 классы, 3 - среднее специальное или 11 классов, 4 - высшее)"
   ]
  },
  {
   "cell_type": "code",
   "execution_count": 260,
   "metadata": {},
   "outputs": [
    {
     "data": {
      "text/html": [
       "<div>\n",
       "<style scoped>\n",
       "    .dataframe tbody tr th:only-of-type {\n",
       "        vertical-align: middle;\n",
       "    }\n",
       "\n",
       "    .dataframe tbody tr th {\n",
       "        vertical-align: top;\n",
       "    }\n",
       "\n",
       "    .dataframe thead th {\n",
       "        text-align: right;\n",
       "    }\n",
       "</style>\n",
       "<table border=\"1\" class=\"dataframe\">\n",
       "  <thead>\n",
       "    <tr style=\"text-align: right;\">\n",
       "      <th></th>\n",
       "      <th>father_education</th>\n",
       "    </tr>\n",
       "  </thead>\n",
       "  <tbody>\n",
       "    <tr>\n",
       "      <td>2.0</td>\n",
       "      <td>0.265625</td>\n",
       "    </tr>\n",
       "    <tr>\n",
       "      <td>3.0</td>\n",
       "      <td>0.244792</td>\n",
       "    </tr>\n",
       "    <tr>\n",
       "      <td>4.0</td>\n",
       "      <td>0.229167</td>\n",
       "    </tr>\n",
       "    <tr>\n",
       "      <td>1.0</td>\n",
       "      <td>0.190104</td>\n",
       "    </tr>\n",
       "    <tr>\n",
       "      <td>NaN</td>\n",
       "      <td>0.062500</td>\n",
       "    </tr>\n",
       "    <tr>\n",
       "      <td>0.0</td>\n",
       "      <td>0.005208</td>\n",
       "    </tr>\n",
       "    <tr>\n",
       "      <td>40.0</td>\n",
       "      <td>0.002604</td>\n",
       "    </tr>\n",
       "  </tbody>\n",
       "</table>\n",
       "</div>"
      ],
      "text/plain": [
       "      father_education\n",
       "2.0           0.265625\n",
       "3.0           0.244792\n",
       "4.0           0.229167\n",
       "1.0           0.190104\n",
       "NaN           0.062500\n",
       "0.0           0.005208\n",
       "40.0          0.002604"
      ]
     },
     "metadata": {},
     "output_type": "display_data"
    }
   ],
   "source": [
    "display(pd.DataFrame(students.father_education.value_counts(dropna=False, normalize=True)))"
   ]
  },
  {
   "cell_type": "markdown",
   "metadata": {},
   "source": [
    "Около 6% данных в столбце пропущены. Пока оставим, как есть (оптимальное значение для пропусков неочевидно). Но заметим, что имеющееся значение 40 - это, скорее всего, опечатка, и имелось в виду 4. Исправим ее:"
   ]
  },
  {
   "cell_type": "code",
   "execution_count": 261,
   "metadata": {},
   "outputs": [],
   "source": [
    "students.father_education = students.father_education.apply(lambda x: float(str(x).replace('40', '4')))"
   ]
  },
  {
   "cell_type": "markdown",
   "metadata": {},
   "source": [
    "Проверим на выбросы:"
   ]
  },
  {
   "cell_type": "code",
   "execution_count": 262,
   "metadata": {},
   "outputs": [
    {
     "name": "stdout",
     "output_type": "stream",
     "text": [
      " 1-ый квартиль: 2.0, 3-ий квартиль: 4.0, IQR: 2.0. Границы выбросов: [-1.0, 7.0]\n"
     ]
    },
    {
     "data": {
      "image/png": "[encoded data removed]",
      "text/plain": [
       "<Figure size 432x288 with 1 Axes>"
      ]
     },
     "metadata": {
      "needs_background": "light"
     },
     "output_type": "display_data"
    }
   ],
   "source": [
    "sns.boxplot('father_education',  data = students)\n",
    "main_stat(students.mother_education)"
   ]
  },
  {
   "cell_type": "markdown",
   "metadata": {},
   "source": [
    "Только у полпроцента учеников отец не имеет даже начального образования. Это настолько мало, что мы вполне можем удалить данный выброс:"
   ]
  },
  {
   "cell_type": "code",
   "execution_count": 263,
   "metadata": {},
   "outputs": [],
   "source": [
    "students = students.loc[students.father_education > 0]"
   ]
  },
  {
   "cell_type": "markdown",
   "metadata": {},
   "source": [
    "##  mother_job — работа матери ('teacher' - учитель, 'health' - сфера здравоохранения, 'services' - гос служба, 'at_home' - не работает, 'other' - другое)"
   ]
  },
  {
   "cell_type": "code",
   "execution_count": 264,
   "metadata": {},
   "outputs": [
    {
     "data": {
      "text/html": [
       "<div>\n",
       "<style scoped>\n",
       "    .dataframe tbody tr th:only-of-type {\n",
       "        vertical-align: middle;\n",
       "    }\n",
       "\n",
       "    .dataframe tbody tr th {\n",
       "        vertical-align: top;\n",
       "    }\n",
       "\n",
       "    .dataframe thead th {\n",
       "        text-align: right;\n",
       "    }\n",
       "</style>\n",
       "<table border=\"1\" class=\"dataframe\">\n",
       "  <thead>\n",
       "    <tr style=\"text-align: right;\">\n",
       "      <th></th>\n",
       "      <th>mother_job</th>\n",
       "    </tr>\n",
       "  </thead>\n",
       "  <tbody>\n",
       "    <tr>\n",
       "      <td>other</td>\n",
       "      <td>0.326816</td>\n",
       "    </tr>\n",
       "    <tr>\n",
       "      <td>services</td>\n",
       "      <td>0.245810</td>\n",
       "    </tr>\n",
       "    <tr>\n",
       "      <td>at_home</td>\n",
       "      <td>0.159218</td>\n",
       "    </tr>\n",
       "    <tr>\n",
       "      <td>teacher</td>\n",
       "      <td>0.131285</td>\n",
       "    </tr>\n",
       "    <tr>\n",
       "      <td>health</td>\n",
       "      <td>0.083799</td>\n",
       "    </tr>\n",
       "    <tr>\n",
       "      <td>NaN</td>\n",
       "      <td>0.053073</td>\n",
       "    </tr>\n",
       "  </tbody>\n",
       "</table>\n",
       "</div>"
      ],
      "text/plain": [
       "          mother_job\n",
       "other       0.326816\n",
       "services    0.245810\n",
       "at_home     0.159218\n",
       "teacher     0.131285\n",
       "health      0.083799\n",
       "NaN         0.053073"
      ]
     },
     "metadata": {},
     "output_type": "display_data"
    }
   ],
   "source": [
    "display(pd.DataFrame(students.mother_job.value_counts(dropna=False, normalize=True)))"
   ]
  },
  {
   "cell_type": "markdown",
   "metadata": {},
   "source": [
    "Около 5% данных в столбце пропущены. Пока оставим, как есть (оптимальное значение для пропусков неочевидно)"
   ]
  },
  {
   "cell_type": "markdown",
   "metadata": {},
   "source": [
    "## father_job — работа отца ('teacher' - учитель, 'health' - сфера здравоохранения, 'services' - гос служба, 'at_home' - не работает, 'other' - другое)"
   ]
  },
  {
   "cell_type": "code",
   "execution_count": 265,
   "metadata": {},
   "outputs": [
    {
     "data": {
      "text/html": [
       "<div>\n",
       "<style scoped>\n",
       "    .dataframe tbody tr th:only-of-type {\n",
       "        vertical-align: middle;\n",
       "    }\n",
       "\n",
       "    .dataframe tbody tr th {\n",
       "        vertical-align: top;\n",
       "    }\n",
       "\n",
       "    .dataframe thead th {\n",
       "        text-align: right;\n",
       "    }\n",
       "</style>\n",
       "<table border=\"1\" class=\"dataframe\">\n",
       "  <thead>\n",
       "    <tr style=\"text-align: right;\">\n",
       "      <th></th>\n",
       "      <th>father_job</th>\n",
       "    </tr>\n",
       "  </thead>\n",
       "  <tbody>\n",
       "    <tr>\n",
       "      <td>other</td>\n",
       "      <td>0.508380</td>\n",
       "    </tr>\n",
       "    <tr>\n",
       "      <td>services</td>\n",
       "      <td>0.248603</td>\n",
       "    </tr>\n",
       "    <tr>\n",
       "      <td>NaN</td>\n",
       "      <td>0.094972</td>\n",
       "    </tr>\n",
       "    <tr>\n",
       "      <td>teacher</td>\n",
       "      <td>0.072626</td>\n",
       "    </tr>\n",
       "    <tr>\n",
       "      <td>at_home</td>\n",
       "      <td>0.039106</td>\n",
       "    </tr>\n",
       "    <tr>\n",
       "      <td>health</td>\n",
       "      <td>0.036313</td>\n",
       "    </tr>\n",
       "  </tbody>\n",
       "</table>\n",
       "</div>"
      ],
      "text/plain": [
       "          father_job\n",
       "other       0.508380\n",
       "services    0.248603\n",
       "NaN         0.094972\n",
       "teacher     0.072626\n",
       "at_home     0.039106\n",
       "health      0.036313"
      ]
     },
     "metadata": {},
     "output_type": "display_data"
    }
   ],
   "source": [
    "display(pd.DataFrame(students.father_job.value_counts(dropna=False, normalize=True)))"
   ]
  },
  {
   "cell_type": "markdown",
   "metadata": {},
   "source": [
    "Около 9% данных в столбце пропущены. Пока оставим, как есть (оптимальное значение для пропусков неочевидно)"
   ]
  },
  {
   "cell_type": "markdown",
   "metadata": {},
   "source": [
    "## school_choice_reason — причина выбора школы ('home' - близость к дому, 'reputation' - репутация школы, 'course' - образовательная программа, 'other' - другое)"
   ]
  },
  {
   "cell_type": "code",
   "execution_count": 266,
   "metadata": {},
   "outputs": [
    {
     "data": {
      "text/html": [
       "<div>\n",
       "<style scoped>\n",
       "    .dataframe tbody tr th:only-of-type {\n",
       "        vertical-align: middle;\n",
       "    }\n",
       "\n",
       "    .dataframe tbody tr th {\n",
       "        vertical-align: top;\n",
       "    }\n",
       "\n",
       "    .dataframe thead th {\n",
       "        text-align: right;\n",
       "    }\n",
       "</style>\n",
       "<table border=\"1\" class=\"dataframe\">\n",
       "  <thead>\n",
       "    <tr style=\"text-align: right;\">\n",
       "      <th></th>\n",
       "      <th>school_choice_reason</th>\n",
       "    </tr>\n",
       "  </thead>\n",
       "  <tbody>\n",
       "    <tr>\n",
       "      <td>course</td>\n",
       "      <td>0.337989</td>\n",
       "    </tr>\n",
       "    <tr>\n",
       "      <td>reputation</td>\n",
       "      <td>0.270950</td>\n",
       "    </tr>\n",
       "    <tr>\n",
       "      <td>home</td>\n",
       "      <td>0.259777</td>\n",
       "    </tr>\n",
       "    <tr>\n",
       "      <td>other</td>\n",
       "      <td>0.086592</td>\n",
       "    </tr>\n",
       "    <tr>\n",
       "      <td>NaN</td>\n",
       "      <td>0.044693</td>\n",
       "    </tr>\n",
       "  </tbody>\n",
       "</table>\n",
       "</div>"
      ],
      "text/plain": [
       "            school_choice_reason\n",
       "course                  0.337989\n",
       "reputation              0.270950\n",
       "home                    0.259777\n",
       "other                   0.086592\n",
       "NaN                     0.044693"
      ]
     },
     "metadata": {},
     "output_type": "display_data"
    }
   ],
   "source": [
    "display(pd.DataFrame(students.school_choice_reason.value_counts(dropna=False, normalize=True)))"
   ]
  },
  {
   "cell_type": "markdown",
   "metadata": {},
   "source": [
    "Около 4% данных в столбце пропущены. Пока оставим, как есть (оптимальное значение для пропусков неочевидно)"
   ]
  },
  {
   "cell_type": "markdown",
   "metadata": {},
   "source": [
    "## guardian — опекун ('mother' - мать, 'father' - отец, 'other' - другое)"
   ]
  },
  {
   "cell_type": "code",
   "execution_count": 267,
   "metadata": {},
   "outputs": [
    {
     "data": {
      "text/html": [
       "<div>\n",
       "<style scoped>\n",
       "    .dataframe tbody tr th:only-of-type {\n",
       "        vertical-align: middle;\n",
       "    }\n",
       "\n",
       "    .dataframe tbody tr th {\n",
       "        vertical-align: top;\n",
       "    }\n",
       "\n",
       "    .dataframe thead th {\n",
       "        text-align: right;\n",
       "    }\n",
       "</style>\n",
       "<table border=\"1\" class=\"dataframe\">\n",
       "  <thead>\n",
       "    <tr style=\"text-align: right;\">\n",
       "      <th></th>\n",
       "      <th>guardian</th>\n",
       "    </tr>\n",
       "  </thead>\n",
       "  <tbody>\n",
       "    <tr>\n",
       "      <td>mother</td>\n",
       "      <td>0.645251</td>\n",
       "    </tr>\n",
       "    <tr>\n",
       "      <td>father</td>\n",
       "      <td>0.220670</td>\n",
       "    </tr>\n",
       "    <tr>\n",
       "      <td>NaN</td>\n",
       "      <td>0.075419</td>\n",
       "    </tr>\n",
       "    <tr>\n",
       "      <td>other</td>\n",
       "      <td>0.058659</td>\n",
       "    </tr>\n",
       "  </tbody>\n",
       "</table>\n",
       "</div>"
      ],
      "text/plain": [
       "        guardian\n",
       "mother  0.645251\n",
       "father  0.220670\n",
       "NaN     0.075419\n",
       "other   0.058659"
      ]
     },
     "metadata": {},
     "output_type": "display_data"
    }
   ],
   "source": [
    "display(pd.DataFrame(students.guardian.value_counts(dropna=False, normalize=True)))"
   ]
  },
  {
   "cell_type": "markdown",
   "metadata": {},
   "source": [
    "Около 8% данных в столбце пропущены. Пока оставим, как есть (оптимальное значение для пропусков неочевидно)"
   ]
  },
  {
   "cell_type": "markdown",
   "metadata": {},
   "source": [
    "## travel_time — время в пути до школы (1 - <15 мин., 2 - 15-30 мин., 3 - 30-60 мин., 4 - >60 мин.)"
   ]
  },
  {
   "cell_type": "code",
   "execution_count": 268,
   "metadata": {},
   "outputs": [
    {
     "data": {
      "text/html": [
       "<div>\n",
       "<style scoped>\n",
       "    .dataframe tbody tr th:only-of-type {\n",
       "        vertical-align: middle;\n",
       "    }\n",
       "\n",
       "    .dataframe tbody tr th {\n",
       "        vertical-align: top;\n",
       "    }\n",
       "\n",
       "    .dataframe thead th {\n",
       "        text-align: right;\n",
       "    }\n",
       "</style>\n",
       "<table border=\"1\" class=\"dataframe\">\n",
       "  <thead>\n",
       "    <tr style=\"text-align: right;\">\n",
       "      <th></th>\n",
       "      <th>travel_time</th>\n",
       "    </tr>\n",
       "  </thead>\n",
       "  <tbody>\n",
       "    <tr>\n",
       "      <td>1.0</td>\n",
       "      <td>0.608939</td>\n",
       "    </tr>\n",
       "    <tr>\n",
       "      <td>2.0</td>\n",
       "      <td>0.243017</td>\n",
       "    </tr>\n",
       "    <tr>\n",
       "      <td>NaN</td>\n",
       "      <td>0.069832</td>\n",
       "    </tr>\n",
       "    <tr>\n",
       "      <td>3.0</td>\n",
       "      <td>0.058659</td>\n",
       "    </tr>\n",
       "    <tr>\n",
       "      <td>4.0</td>\n",
       "      <td>0.019553</td>\n",
       "    </tr>\n",
       "  </tbody>\n",
       "</table>\n",
       "</div>"
      ],
      "text/plain": [
       "     travel_time\n",
       "1.0     0.608939\n",
       "2.0     0.243017\n",
       "NaN     0.069832\n",
       "3.0     0.058659\n",
       "4.0     0.019553"
      ]
     },
     "metadata": {},
     "output_type": "display_data"
    }
   ],
   "source": [
    "display(pd.DataFrame(students.travel_time.value_counts(dropna=False, normalize=True)))"
   ]
  },
  {
   "cell_type": "markdown",
   "metadata": {},
   "source": [
    "Около 7% данных в столбце пропущены. Пока оставим, как есть (оптимальное значение для пропусков неочевидно). Проверим выбросы:"
   ]
  },
  {
   "cell_type": "code",
   "execution_count": 269,
   "metadata": {},
   "outputs": [
    {
     "name": "stdout",
     "output_type": "stream",
     "text": [
      " 1-ый квартиль: 1.0, 3-ий квартиль: 2.0, IQR: 1.0. Границы выбросов: [-0.5, 3.5]\n"
     ]
    },
    {
     "data": {
      "image/png": "[encoded data removed]",
      "text/plain": [
       "<Figure size 432x288 with 1 Axes>"
      ]
     },
     "metadata": {
      "needs_background": "light"
     },
     "output_type": "display_data"
    }
   ],
   "source": [
    "sns.boxplot('travel_time',  data = students)\n",
    "main_stat(students.travel_time)"
   ]
  },
  {
   "cell_type": "markdown",
   "metadata": {},
   "source": [
    "Хоть мы и наблюдаем наличие выброса, число школьников, добирающихся на занятия более часа, составляет 2%, что, пожалуй, нельзя назвать ничтожно малым, поэтому выброс не удаляем."
   ]
  },
  {
   "cell_type": "markdown",
   "metadata": {},
   "source": [
    "## study_time — время на учёбу помимо школы в неделю (1 - <2 часов, 2 - 2-5 часов, 3 - 5-10 часов, 4 - >10 часов)"
   ]
  },
  {
   "cell_type": "code",
   "execution_count": 270,
   "metadata": {},
   "outputs": [
    {
     "data": {
      "text/html": [
       "<div>\n",
       "<style scoped>\n",
       "    .dataframe tbody tr th:only-of-type {\n",
       "        vertical-align: middle;\n",
       "    }\n",
       "\n",
       "    .dataframe tbody tr th {\n",
       "        vertical-align: top;\n",
       "    }\n",
       "\n",
       "    .dataframe thead th {\n",
       "        text-align: right;\n",
       "    }\n",
       "</style>\n",
       "<table border=\"1\" class=\"dataframe\">\n",
       "  <thead>\n",
       "    <tr style=\"text-align: right;\">\n",
       "      <th></th>\n",
       "      <th>study_time</th>\n",
       "    </tr>\n",
       "  </thead>\n",
       "  <tbody>\n",
       "    <tr>\n",
       "      <td>2.0</td>\n",
       "      <td>0.488827</td>\n",
       "    </tr>\n",
       "    <tr>\n",
       "      <td>1.0</td>\n",
       "      <td>0.265363</td>\n",
       "    </tr>\n",
       "    <tr>\n",
       "      <td>3.0</td>\n",
       "      <td>0.159218</td>\n",
       "    </tr>\n",
       "    <tr>\n",
       "      <td>4.0</td>\n",
       "      <td>0.067039</td>\n",
       "    </tr>\n",
       "    <tr>\n",
       "      <td>NaN</td>\n",
       "      <td>0.019553</td>\n",
       "    </tr>\n",
       "  </tbody>\n",
       "</table>\n",
       "</div>"
      ],
      "text/plain": [
       "     study_time\n",
       "2.0    0.488827\n",
       "1.0    0.265363\n",
       "3.0    0.159218\n",
       "4.0    0.067039\n",
       "NaN    0.019553"
      ]
     },
     "metadata": {},
     "output_type": "display_data"
    }
   ],
   "source": [
    "display(pd.DataFrame(students.study_time.value_counts(dropna=False, normalize=True)))"
   ]
  },
  {
   "cell_type": "markdown",
   "metadata": {},
   "source": [
    "Около 2% данных в столбце пропущены. Пока оставим, как есть (оптимальное значение для пропусков неочевидно). Проверим выбросы:"
   ]
  },
  {
   "cell_type": "code",
   "execution_count": 271,
   "metadata": {},
   "outputs": [
    {
     "name": "stdout",
     "output_type": "stream",
     "text": [
      " 1-ый квартиль: 1.0, 3-ий квартиль: 2.0, IQR: 1.0. Границы выбросов: [-0.5, 3.5]\n"
     ]
    },
    {
     "data": {
      "image/png": "[encoded data removed]",
      "text/plain": [
       "<Figure size 432x288 with 1 Axes>"
      ]
     },
     "metadata": {
      "needs_background": "light"
     },
     "output_type": "display_data"
    }
   ],
   "source": [
    "sns.boxplot('study_time',  data = students)\n",
    "main_stat(students.study_time)"
   ]
  },
  {
   "cell_type": "markdown",
   "metadata": {},
   "source": [
    "Аналогично предыдущему пункту, хоть мы и наблюдаем наличие выброса, число школьников, которые тратят на занятия свыше 10 часов, целых 7%, что не является ничтожно малым, поэтому выброс не удаляем. Также нельзя не заметить, что графики travel_time и study_time очень похожи. Возникает предположение, что между ними достаточно высокий коэффициент корреляции. Проверим нашу гипотезу:"
   ]
  },
  {
   "cell_type": "code",
   "execution_count": 272,
   "metadata": {},
   "outputs": [
    {
     "name": "stdout",
     "output_type": "stream",
     "text": [
      "-0.11541063576288352\n"
     ]
    }
   ],
   "source": [
    "print(students.study_time.corr(students['travel_time']))"
   ]
  },
  {
   "cell_type": "markdown",
   "metadata": {},
   "source": [
    "Модуль коэффициента корреляции низкий, гипотеза не подтвердилась. Видимо, случайное совпадение"
   ]
  },
  {
   "cell_type": "markdown",
   "metadata": {},
   "source": [
    "## non_study_failures — количество внеучебных неудач (n, если 1<=n<=3, иначе 0)"
   ]
  },
  {
   "cell_type": "code",
   "execution_count": 273,
   "metadata": {},
   "outputs": [
    {
     "data": {
      "text/html": [
       "<div>\n",
       "<style scoped>\n",
       "    .dataframe tbody tr th:only-of-type {\n",
       "        vertical-align: middle;\n",
       "    }\n",
       "\n",
       "    .dataframe tbody tr th {\n",
       "        vertical-align: top;\n",
       "    }\n",
       "\n",
       "    .dataframe thead th {\n",
       "        text-align: right;\n",
       "    }\n",
       "</style>\n",
       "<table border=\"1\" class=\"dataframe\">\n",
       "  <thead>\n",
       "    <tr style=\"text-align: right;\">\n",
       "      <th></th>\n",
       "      <th>non_study_failures</th>\n",
       "    </tr>\n",
       "  </thead>\n",
       "  <tbody>\n",
       "    <tr>\n",
       "      <td>0.0</td>\n",
       "      <td>0.762570</td>\n",
       "    </tr>\n",
       "    <tr>\n",
       "      <td>1.0</td>\n",
       "      <td>0.122905</td>\n",
       "    </tr>\n",
       "    <tr>\n",
       "      <td>NaN</td>\n",
       "      <td>0.050279</td>\n",
       "    </tr>\n",
       "    <tr>\n",
       "      <td>3.0</td>\n",
       "      <td>0.033520</td>\n",
       "    </tr>\n",
       "    <tr>\n",
       "      <td>2.0</td>\n",
       "      <td>0.030726</td>\n",
       "    </tr>\n",
       "  </tbody>\n",
       "</table>\n",
       "</div>"
      ],
      "text/plain": [
       "     non_study_failures\n",
       "0.0            0.762570\n",
       "1.0            0.122905\n",
       "NaN            0.050279\n",
       "3.0            0.033520\n",
       "2.0            0.030726"
      ]
     },
     "metadata": {},
     "output_type": "display_data"
    }
   ],
   "source": [
    "display(pd.DataFrame(students.non_study_failures.value_counts(dropna=False, normalize=True)))"
   ]
  },
  {
   "cell_type": "markdown",
   "metadata": {},
   "source": [
    "Около 5% данных в столбце пропущены. Пока оставим, как есть (оптимальное значение для пропусков неочевидно, под внеучебной деятельностью может подразумеваться практически все, что угодно). Проверим выбросы:"
   ]
  },
  {
   "cell_type": "code",
   "execution_count": 274,
   "metadata": {},
   "outputs": [
    {
     "name": "stdout",
     "output_type": "stream",
     "text": [
      " 1-ый квартиль: 0.0, 3-ий квартиль: 0.0, IQR: 0.0. Границы выбросов: [0.0, 0.0]\n"
     ]
    },
    {
     "data": {
      "image/png": "[encoded data removed]",
      "text/plain": [
       "<Figure size 432x288 with 1 Axes>"
      ]
     },
     "metadata": {
      "needs_background": "light"
     },
     "output_type": "display_data"
    }
   ],
   "source": [
    "sns.boxplot('non_study_failures',  data = students)\n",
    "main_stat(students.non_study_failures)"
   ]
  },
  {
   "cell_type": "markdown",
   "metadata": {},
   "source": [
    "Поскольку более 75% школьников внеучебных неудач не имеют, то любое значение, отличное от 0, является выбросом. Однако удалять эти выбросы мы не будем, т.к. 3% и тем более 12% - это не ничтожно мало и может повлиять на общую статистику."
   ]
  },
  {
   "cell_type": "markdown",
   "metadata": {},
   "source": [
    "## school_educational_support — дополнительная образовательная поддержка (yes или no)"
   ]
  },
  {
   "cell_type": "code",
   "execution_count": 275,
   "metadata": {},
   "outputs": [
    {
     "data": {
      "text/html": [
       "<div>\n",
       "<style scoped>\n",
       "    .dataframe tbody tr th:only-of-type {\n",
       "        vertical-align: middle;\n",
       "    }\n",
       "\n",
       "    .dataframe tbody tr th {\n",
       "        vertical-align: top;\n",
       "    }\n",
       "\n",
       "    .dataframe thead th {\n",
       "        text-align: right;\n",
       "    }\n",
       "</style>\n",
       "<table border=\"1\" class=\"dataframe\">\n",
       "  <thead>\n",
       "    <tr style=\"text-align: right;\">\n",
       "      <th></th>\n",
       "      <th>school_educational_support</th>\n",
       "    </tr>\n",
       "  </thead>\n",
       "  <tbody>\n",
       "    <tr>\n",
       "      <td>no</td>\n",
       "      <td>0.851955</td>\n",
       "    </tr>\n",
       "    <tr>\n",
       "      <td>yes</td>\n",
       "      <td>0.125698</td>\n",
       "    </tr>\n",
       "    <tr>\n",
       "      <td>NaN</td>\n",
       "      <td>0.022346</td>\n",
       "    </tr>\n",
       "  </tbody>\n",
       "</table>\n",
       "</div>"
      ],
      "text/plain": [
       "     school_educational_support\n",
       "no                     0.851955\n",
       "yes                    0.125698\n",
       "NaN                    0.022346"
      ]
     },
     "metadata": {},
     "output_type": "display_data"
    }
   ],
   "source": [
    "display(pd.DataFrame(students.school_educational_support.value_counts(dropna=False, normalize=True)))"
   ]
  },
  {
   "cell_type": "markdown",
   "metadata": {},
   "source": [
    "Около 2% данных в столбце пропущены. Пока оставим, как есть (оптимальное значение для пропусков неочевидно). "
   ]
  },
  {
   "cell_type": "markdown",
   "metadata": {},
   "source": [
    "## family_educational_support — семейная образовательная поддержка (yes или no)"
   ]
  },
  {
   "cell_type": "code",
   "execution_count": 276,
   "metadata": {},
   "outputs": [
    {
     "data": {
      "text/html": [
       "<div>\n",
       "<style scoped>\n",
       "    .dataframe tbody tr th:only-of-type {\n",
       "        vertical-align: middle;\n",
       "    }\n",
       "\n",
       "    .dataframe tbody tr th {\n",
       "        vertical-align: top;\n",
       "    }\n",
       "\n",
       "    .dataframe thead th {\n",
       "        text-align: right;\n",
       "    }\n",
       "</style>\n",
       "<table border=\"1\" class=\"dataframe\">\n",
       "  <thead>\n",
       "    <tr style=\"text-align: right;\">\n",
       "      <th></th>\n",
       "      <th>family_educational_support</th>\n",
       "    </tr>\n",
       "  </thead>\n",
       "  <tbody>\n",
       "    <tr>\n",
       "      <td>yes</td>\n",
       "      <td>0.555866</td>\n",
       "    </tr>\n",
       "    <tr>\n",
       "      <td>no</td>\n",
       "      <td>0.349162</td>\n",
       "    </tr>\n",
       "    <tr>\n",
       "      <td>NaN</td>\n",
       "      <td>0.094972</td>\n",
       "    </tr>\n",
       "  </tbody>\n",
       "</table>\n",
       "</div>"
      ],
      "text/plain": [
       "     family_educational_support\n",
       "yes                    0.555866\n",
       "no                     0.349162\n",
       "NaN                    0.094972"
      ]
     },
     "metadata": {},
     "output_type": "display_data"
    }
   ],
   "source": [
    "display(pd.DataFrame(students.family_educational_support.value_counts(dropna=False, normalize=True)))"
   ]
  },
  {
   "cell_type": "markdown",
   "metadata": {},
   "source": [
    "Около 10% данных в столбце пропущены. Пока оставим, как есть (оптимальное значение для пропусков неочевидно)."
   ]
  },
  {
   "cell_type": "markdown",
   "metadata": {},
   "source": [
    " ## maths_tutor— дополнительные платные занятия по математике (yes или no)"
   ]
  },
  {
   "cell_type": "code",
   "execution_count": 277,
   "metadata": {},
   "outputs": [
    {
     "data": {
      "text/html": [
       "<div>\n",
       "<style scoped>\n",
       "    .dataframe tbody tr th:only-of-type {\n",
       "        vertical-align: middle;\n",
       "    }\n",
       "\n",
       "    .dataframe tbody tr th {\n",
       "        vertical-align: top;\n",
       "    }\n",
       "\n",
       "    .dataframe thead th {\n",
       "        text-align: right;\n",
       "    }\n",
       "</style>\n",
       "<table border=\"1\" class=\"dataframe\">\n",
       "  <thead>\n",
       "    <tr style=\"text-align: right;\">\n",
       "      <th></th>\n",
       "      <th>maths_tutor</th>\n",
       "    </tr>\n",
       "  </thead>\n",
       "  <tbody>\n",
       "    <tr>\n",
       "      <td>no</td>\n",
       "      <td>0.508380</td>\n",
       "    </tr>\n",
       "    <tr>\n",
       "      <td>yes</td>\n",
       "      <td>0.391061</td>\n",
       "    </tr>\n",
       "    <tr>\n",
       "      <td>NaN</td>\n",
       "      <td>0.100559</td>\n",
       "    </tr>\n",
       "  </tbody>\n",
       "</table>\n",
       "</div>"
      ],
      "text/plain": [
       "     maths_tutor\n",
       "no      0.508380\n",
       "yes     0.391061\n",
       "NaN     0.100559"
      ]
     },
     "metadata": {},
     "output_type": "display_data"
    }
   ],
   "source": [
    "display(pd.DataFrame(students.maths_tutor.value_counts(dropna=False, normalize=True)))"
   ]
  },
  {
   "cell_type": "markdown",
   "metadata": {},
   "source": [
    "Около 10% данных в столбце пропущены. Пока оставим, как есть (оптимальное значение для пропусков неочевидно)."
   ]
  },
  {
   "cell_type": "markdown",
   "metadata": {},
   "source": [
    "## extra_activities — дополнительные внеучебные занятия (yes или no)"
   ]
  },
  {
   "cell_type": "code",
   "execution_count": 278,
   "metadata": {},
   "outputs": [
    {
     "data": {
      "text/html": [
       "<div>\n",
       "<style scoped>\n",
       "    .dataframe tbody tr th:only-of-type {\n",
       "        vertical-align: middle;\n",
       "    }\n",
       "\n",
       "    .dataframe tbody tr th {\n",
       "        vertical-align: top;\n",
       "    }\n",
       "\n",
       "    .dataframe thead th {\n",
       "        text-align: right;\n",
       "    }\n",
       "</style>\n",
       "<table border=\"1\" class=\"dataframe\">\n",
       "  <thead>\n",
       "    <tr style=\"text-align: right;\">\n",
       "      <th></th>\n",
       "      <th>extra_activities</th>\n",
       "    </tr>\n",
       "  </thead>\n",
       "  <tbody>\n",
       "    <tr>\n",
       "      <td>yes</td>\n",
       "      <td>0.488827</td>\n",
       "    </tr>\n",
       "    <tr>\n",
       "      <td>no</td>\n",
       "      <td>0.472067</td>\n",
       "    </tr>\n",
       "    <tr>\n",
       "      <td>NaN</td>\n",
       "      <td>0.039106</td>\n",
       "    </tr>\n",
       "  </tbody>\n",
       "</table>\n",
       "</div>"
      ],
      "text/plain": [
       "     extra_activities\n",
       "yes          0.488827\n",
       "no           0.472067\n",
       "NaN          0.039106"
      ]
     },
     "metadata": {},
     "output_type": "display_data"
    }
   ],
   "source": [
    "display(pd.DataFrame(students.extra_activities.value_counts(dropna=False, normalize=True)))"
   ]
  },
  {
   "cell_type": "markdown",
   "metadata": {},
   "source": [
    "Около 4% данных в столбце пропущены. Пока оставим, как есть (оптимальное значение для пропусков неочевидно)."
   ]
  },
  {
   "cell_type": "markdown",
   "metadata": {},
   "source": [
    "## nursery — посещал детский сад (yes или no)"
   ]
  },
  {
   "cell_type": "code",
   "execution_count": 279,
   "metadata": {},
   "outputs": [
    {
     "data": {
      "text/html": [
       "<div>\n",
       "<style scoped>\n",
       "    .dataframe tbody tr th:only-of-type {\n",
       "        vertical-align: middle;\n",
       "    }\n",
       "\n",
       "    .dataframe tbody tr th {\n",
       "        vertical-align: top;\n",
       "    }\n",
       "\n",
       "    .dataframe thead th {\n",
       "        text-align: right;\n",
       "    }\n",
       "</style>\n",
       "<table border=\"1\" class=\"dataframe\">\n",
       "  <thead>\n",
       "    <tr style=\"text-align: right;\">\n",
       "      <th></th>\n",
       "      <th>nursery</th>\n",
       "    </tr>\n",
       "  </thead>\n",
       "  <tbody>\n",
       "    <tr>\n",
       "      <td>yes</td>\n",
       "      <td>0.762570</td>\n",
       "    </tr>\n",
       "    <tr>\n",
       "      <td>no</td>\n",
       "      <td>0.195531</td>\n",
       "    </tr>\n",
       "    <tr>\n",
       "      <td>NaN</td>\n",
       "      <td>0.041899</td>\n",
       "    </tr>\n",
       "  </tbody>\n",
       "</table>\n",
       "</div>"
      ],
      "text/plain": [
       "      nursery\n",
       "yes  0.762570\n",
       "no   0.195531\n",
       "NaN  0.041899"
      ]
     },
     "metadata": {},
     "output_type": "display_data"
    }
   ],
   "source": [
    "display(pd.DataFrame(students.nursery.value_counts(dropna=False, normalize=True)))"
   ]
  },
  {
   "cell_type": "markdown",
   "metadata": {},
   "source": [
    "Около 4% данных в столбце пропущены. Пока оставим, как есть (оптимальное значение для пропусков неочевидно)."
   ]
  },
  {
   "cell_type": "markdown",
   "metadata": {},
   "source": [
    " ## want_higher_education — хочет получить высшее образование (yes или no)"
   ]
  },
  {
   "cell_type": "code",
   "execution_count": 280,
   "metadata": {},
   "outputs": [
    {
     "data": {
      "text/html": [
       "<div>\n",
       "<style scoped>\n",
       "    .dataframe tbody tr th:only-of-type {\n",
       "        vertical-align: middle;\n",
       "    }\n",
       "\n",
       "    .dataframe tbody tr th {\n",
       "        vertical-align: top;\n",
       "    }\n",
       "\n",
       "    .dataframe thead th {\n",
       "        text-align: right;\n",
       "    }\n",
       "</style>\n",
       "<table border=\"1\" class=\"dataframe\">\n",
       "  <thead>\n",
       "    <tr style=\"text-align: right;\">\n",
       "      <th></th>\n",
       "      <th>want_higher_education</th>\n",
       "    </tr>\n",
       "  </thead>\n",
       "  <tbody>\n",
       "    <tr>\n",
       "      <td>yes</td>\n",
       "      <td>0.907821</td>\n",
       "    </tr>\n",
       "    <tr>\n",
       "      <td>no</td>\n",
       "      <td>0.050279</td>\n",
       "    </tr>\n",
       "    <tr>\n",
       "      <td>NaN</td>\n",
       "      <td>0.041899</td>\n",
       "    </tr>\n",
       "  </tbody>\n",
       "</table>\n",
       "</div>"
      ],
      "text/plain": [
       "     want_higher_education\n",
       "yes               0.907821\n",
       "no                0.050279\n",
       "NaN               0.041899"
      ]
     },
     "metadata": {},
     "output_type": "display_data"
    }
   ],
   "source": [
    "display(pd.DataFrame(students.want_higher_education.value_counts(dropna=False, normalize=True)))"
   ]
  },
  {
   "cell_type": "markdown",
   "metadata": {},
   "source": [
    "Около 4% данных в столбце пропущены. Однако здесь мы видим явный перекос в сторону утвердительного ответа, поэтому можем заполнить пропуски значением \"yes\""
   ]
  },
  {
   "cell_type": "code",
   "execution_count": 281,
   "metadata": {},
   "outputs": [
    {
     "name": "stdout",
     "output_type": "stream",
     "text": [
      "<class 'pandas.core.frame.DataFrame'>\n",
      "Int64Index: 358 entries, 0 to 394\n",
      "Data columns (total 1 columns):\n",
      "want_higher_education    358 non-null object\n",
      "dtypes: object(1)\n",
      "memory usage: 5.6+ KB\n"
     ]
    }
   ],
   "source": [
    "students.want_higher_education = students.want_higher_education.fillna(\"yes\")\n",
    "students.loc[:, ['want_higher_education']].info()"
   ]
  },
  {
   "cell_type": "markdown",
   "metadata": {},
   "source": [
    "## internet — наличие интернета дома (yes или no)"
   ]
  },
  {
   "cell_type": "code",
   "execution_count": 282,
   "metadata": {},
   "outputs": [
    {
     "data": {
      "text/html": [
       "<div>\n",
       "<style scoped>\n",
       "    .dataframe tbody tr th:only-of-type {\n",
       "        vertical-align: middle;\n",
       "    }\n",
       "\n",
       "    .dataframe tbody tr th {\n",
       "        vertical-align: top;\n",
       "    }\n",
       "\n",
       "    .dataframe thead th {\n",
       "        text-align: right;\n",
       "    }\n",
       "</style>\n",
       "<table border=\"1\" class=\"dataframe\">\n",
       "  <thead>\n",
       "    <tr style=\"text-align: right;\">\n",
       "      <th></th>\n",
       "      <th>internet</th>\n",
       "    </tr>\n",
       "  </thead>\n",
       "  <tbody>\n",
       "    <tr>\n",
       "      <td>yes</td>\n",
       "      <td>0.768156</td>\n",
       "    </tr>\n",
       "    <tr>\n",
       "      <td>no</td>\n",
       "      <td>0.139665</td>\n",
       "    </tr>\n",
       "    <tr>\n",
       "      <td>NaN</td>\n",
       "      <td>0.092179</td>\n",
       "    </tr>\n",
       "  </tbody>\n",
       "</table>\n",
       "</div>"
      ],
      "text/plain": [
       "     internet\n",
       "yes  0.768156\n",
       "no   0.139665\n",
       "NaN  0.092179"
      ]
     },
     "metadata": {},
     "output_type": "display_data"
    }
   ],
   "source": [
    "display(pd.DataFrame(students.internet.value_counts(dropna=False, normalize=True)))"
   ]
  },
  {
   "cell_type": "markdown",
   "metadata": {},
   "source": [
    "Около 10% данных в столбце пропущены. Пока оставим, как есть (оптимальное значение для пропусков неочевидно)."
   ]
  },
  {
   "cell_type": "code",
   "execution_count": 283,
   "metadata": {},
   "outputs": [],
   "source": [
    "nominative_features.append('internet')"
   ]
  },
  {
   "cell_type": "markdown",
   "metadata": {},
   "source": [
    "## romantic — в романтических отношениях (yes или no)"
   ]
  },
  {
   "cell_type": "code",
   "execution_count": 284,
   "metadata": {},
   "outputs": [
    {
     "data": {
      "text/html": [
       "<div>\n",
       "<style scoped>\n",
       "    .dataframe tbody tr th:only-of-type {\n",
       "        vertical-align: middle;\n",
       "    }\n",
       "\n",
       "    .dataframe tbody tr th {\n",
       "        vertical-align: top;\n",
       "    }\n",
       "\n",
       "    .dataframe thead th {\n",
       "        text-align: right;\n",
       "    }\n",
       "</style>\n",
       "<table border=\"1\" class=\"dataframe\">\n",
       "  <thead>\n",
       "    <tr style=\"text-align: right;\">\n",
       "      <th></th>\n",
       "      <th>romantic</th>\n",
       "    </tr>\n",
       "  </thead>\n",
       "  <tbody>\n",
       "    <tr>\n",
       "      <td>no</td>\n",
       "      <td>0.608939</td>\n",
       "    </tr>\n",
       "    <tr>\n",
       "      <td>yes</td>\n",
       "      <td>0.312849</td>\n",
       "    </tr>\n",
       "    <tr>\n",
       "      <td>NaN</td>\n",
       "      <td>0.078212</td>\n",
       "    </tr>\n",
       "  </tbody>\n",
       "</table>\n",
       "</div>"
      ],
      "text/plain": [
       "     romantic\n",
       "no   0.608939\n",
       "yes  0.312849\n",
       "NaN  0.078212"
      ]
     },
     "metadata": {},
     "output_type": "display_data"
    }
   ],
   "source": [
    "display(pd.DataFrame(students.romantic.value_counts(dropna=False, normalize=True)))"
   ]
  },
  {
   "cell_type": "markdown",
   "metadata": {},
   "source": [
    "Около 8% данных в столбце пропущены. Пока оставим, как есть (оптимальное значение для пропусков неочевидно)."
   ]
  },
  {
   "cell_type": "markdown",
   "metadata": {},
   "source": [
    "## family_relations — семейные отношения (от 1 - очень плохо до 5 - очень хорошо)"
   ]
  },
  {
   "cell_type": "code",
   "execution_count": 285,
   "metadata": {},
   "outputs": [
    {
     "data": {
      "text/html": [
       "<div>\n",
       "<style scoped>\n",
       "    .dataframe tbody tr th:only-of-type {\n",
       "        vertical-align: middle;\n",
       "    }\n",
       "\n",
       "    .dataframe tbody tr th {\n",
       "        vertical-align: top;\n",
       "    }\n",
       "\n",
       "    .dataframe thead th {\n",
       "        text-align: right;\n",
       "    }\n",
       "</style>\n",
       "<table border=\"1\" class=\"dataframe\">\n",
       "  <thead>\n",
       "    <tr style=\"text-align: right;\">\n",
       "      <th></th>\n",
       "      <th>family_relations</th>\n",
       "    </tr>\n",
       "  </thead>\n",
       "  <tbody>\n",
       "    <tr>\n",
       "      <td>4.0</td>\n",
       "      <td>0.455307</td>\n",
       "    </tr>\n",
       "    <tr>\n",
       "      <td>5.0</td>\n",
       "      <td>0.248603</td>\n",
       "    </tr>\n",
       "    <tr>\n",
       "      <td>3.0</td>\n",
       "      <td>0.162011</td>\n",
       "    </tr>\n",
       "    <tr>\n",
       "      <td>NaN</td>\n",
       "      <td>0.067039</td>\n",
       "    </tr>\n",
       "    <tr>\n",
       "      <td>2.0</td>\n",
       "      <td>0.044693</td>\n",
       "    </tr>\n",
       "    <tr>\n",
       "      <td>1.0</td>\n",
       "      <td>0.019553</td>\n",
       "    </tr>\n",
       "    <tr>\n",
       "      <td>-1.0</td>\n",
       "      <td>0.002793</td>\n",
       "    </tr>\n",
       "  </tbody>\n",
       "</table>\n",
       "</div>"
      ],
      "text/plain": [
       "      family_relations\n",
       " 4.0          0.455307\n",
       " 5.0          0.248603\n",
       " 3.0          0.162011\n",
       " NaN          0.067039\n",
       " 2.0          0.044693\n",
       " 1.0          0.019553\n",
       "-1.0          0.002793"
      ]
     },
     "metadata": {},
     "output_type": "display_data"
    }
   ],
   "source": [
    "display(pd.DataFrame(students.family_relations.value_counts(dropna=False, normalize=True)))"
   ]
  },
  {
   "cell_type": "markdown",
   "metadata": {},
   "source": [
    "Около 7% данных в столбце пропущены. Пока оставим, как есть (оптимальное значение для пропусков неочевидно). Значение -1, скорее всего, опечатка, исправим ее:"
   ]
  },
  {
   "cell_type": "code",
   "execution_count": 286,
   "metadata": {},
   "outputs": [],
   "source": [
    "students.family_relations = students.family_relations.apply(lambda x: float(str(x).replace('-1', '1')))"
   ]
  },
  {
   "cell_type": "markdown",
   "metadata": {},
   "source": [
    "Проверим выбросы:"
   ]
  },
  {
   "cell_type": "code",
   "execution_count": 287,
   "metadata": {},
   "outputs": [
    {
     "name": "stdout",
     "output_type": "stream",
     "text": [
      " 1-ый квартиль: 4.0, 3-ий квартиль: 5.0, IQR: 1.0. Границы выбросов: [2.5, 6.5]\n"
     ]
    },
    {
     "data": {
      "image/png": "[encoded data removed]",
      "text/plain": [
       "<Figure size 432x288 with 1 Axes>"
      ]
     },
     "metadata": {
      "needs_background": "light"
     },
     "output_type": "display_data"
    }
   ],
   "source": [
    "sns.boxplot('family_relations',  data = students)\n",
    "main_stat(students.family_relations)"
   ]
  },
  {
   "cell_type": "markdown",
   "metadata": {},
   "source": [
    "Как видим, большинство школьников имеют хорошие и нормальные взаимоотношения с родителями (от 3 до 5 по пятибалльной школе). Однако значения 1 и 2, которые на общем фоне являются выбросами, мы все же удалять не будем, т.к. показатели 6% школьников лежат в этом диапозоне (1 - 2%, 2 - 4% соответственно). "
   ]
  },
  {
   "cell_type": "markdown",
   "metadata": {},
   "source": [
    "## freetime — свободное время после школы (от 1 - очень мало до 5 - очень мого)"
   ]
  },
  {
   "cell_type": "code",
   "execution_count": 288,
   "metadata": {},
   "outputs": [
    {
     "data": {
      "text/html": [
       "<div>\n",
       "<style scoped>\n",
       "    .dataframe tbody tr th:only-of-type {\n",
       "        vertical-align: middle;\n",
       "    }\n",
       "\n",
       "    .dataframe tbody tr th {\n",
       "        vertical-align: top;\n",
       "    }\n",
       "\n",
       "    .dataframe thead th {\n",
       "        text-align: right;\n",
       "    }\n",
       "</style>\n",
       "<table border=\"1\" class=\"dataframe\">\n",
       "  <thead>\n",
       "    <tr style=\"text-align: right;\">\n",
       "      <th></th>\n",
       "      <th>freetime</th>\n",
       "    </tr>\n",
       "  </thead>\n",
       "  <tbody>\n",
       "    <tr>\n",
       "      <td>3.0</td>\n",
       "      <td>0.399441</td>\n",
       "    </tr>\n",
       "    <tr>\n",
       "      <td>4.0</td>\n",
       "      <td>0.276536</td>\n",
       "    </tr>\n",
       "    <tr>\n",
       "      <td>2.0</td>\n",
       "      <td>0.167598</td>\n",
       "    </tr>\n",
       "    <tr>\n",
       "      <td>5.0</td>\n",
       "      <td>0.086592</td>\n",
       "    </tr>\n",
       "    <tr>\n",
       "      <td>1.0</td>\n",
       "      <td>0.050279</td>\n",
       "    </tr>\n",
       "    <tr>\n",
       "      <td>NaN</td>\n",
       "      <td>0.019553</td>\n",
       "    </tr>\n",
       "  </tbody>\n",
       "</table>\n",
       "</div>"
      ],
      "text/plain": [
       "     freetime\n",
       "3.0  0.399441\n",
       "4.0  0.276536\n",
       "2.0  0.167598\n",
       "5.0  0.086592\n",
       "1.0  0.050279\n",
       "NaN  0.019553"
      ]
     },
     "metadata": {},
     "output_type": "display_data"
    }
   ],
   "source": [
    "display(pd.DataFrame(students.freetime.value_counts(dropna=False, normalize=True)))"
   ]
  },
  {
   "cell_type": "markdown",
   "metadata": {},
   "source": [
    "Около 2% данных в столбце пропущены. Пока оставим, как есть (оптимальное значение для пропусков неочевидно). Проверим выбросы:"
   ]
  },
  {
   "cell_type": "code",
   "execution_count": 289,
   "metadata": {},
   "outputs": [
    {
     "name": "stdout",
     "output_type": "stream",
     "text": [
      " 1-ый квартиль: 3.0, 3-ий квартиль: 4.0, IQR: 1.0. Границы выбросов: [1.5, 5.5]\n"
     ]
    },
    {
     "data": {
      "image/png": "[encoded data removed]",
      "text/plain": [
       "<Figure size 432x288 with 1 Axes>"
      ]
     },
     "metadata": {
      "needs_background": "light"
     },
     "output_type": "display_data"
    }
   ],
   "source": [
    "sns.boxplot('freetime',  data = students)\n",
    "main_stat(students.freetime)"
   ]
  },
  {
   "cell_type": "markdown",
   "metadata": {},
   "source": [
    "5% - это не ничтожно мало, выбросы оставляем."
   ]
  },
  {
   "cell_type": "markdown",
   "metadata": {},
   "source": [
    "## goout — проведение времени с друзьями (от 1 - очень мало до 5 - очень много)"
   ]
  },
  {
   "cell_type": "code",
   "execution_count": 290,
   "metadata": {},
   "outputs": [
    {
     "data": {
      "text/html": [
       "<div>\n",
       "<style scoped>\n",
       "    .dataframe tbody tr th:only-of-type {\n",
       "        vertical-align: middle;\n",
       "    }\n",
       "\n",
       "    .dataframe tbody tr th {\n",
       "        vertical-align: top;\n",
       "    }\n",
       "\n",
       "    .dataframe thead th {\n",
       "        text-align: right;\n",
       "    }\n",
       "</style>\n",
       "<table border=\"1\" class=\"dataframe\">\n",
       "  <thead>\n",
       "    <tr style=\"text-align: right;\">\n",
       "      <th></th>\n",
       "      <th>goout</th>\n",
       "    </tr>\n",
       "  </thead>\n",
       "  <tbody>\n",
       "    <tr>\n",
       "      <td>3.0</td>\n",
       "      <td>0.326816</td>\n",
       "    </tr>\n",
       "    <tr>\n",
       "      <td>2.0</td>\n",
       "      <td>0.256983</td>\n",
       "    </tr>\n",
       "    <tr>\n",
       "      <td>4.0</td>\n",
       "      <td>0.206704</td>\n",
       "    </tr>\n",
       "    <tr>\n",
       "      <td>5.0</td>\n",
       "      <td>0.128492</td>\n",
       "    </tr>\n",
       "    <tr>\n",
       "      <td>1.0</td>\n",
       "      <td>0.061453</td>\n",
       "    </tr>\n",
       "    <tr>\n",
       "      <td>NaN</td>\n",
       "      <td>0.019553</td>\n",
       "    </tr>\n",
       "  </tbody>\n",
       "</table>\n",
       "</div>"
      ],
      "text/plain": [
       "        goout\n",
       "3.0  0.326816\n",
       "2.0  0.256983\n",
       "4.0  0.206704\n",
       "5.0  0.128492\n",
       "1.0  0.061453\n",
       "NaN  0.019553"
      ]
     },
     "metadata": {},
     "output_type": "display_data"
    }
   ],
   "source": [
    "display(pd.DataFrame(students.goout.value_counts(dropna=False, normalize=True)))"
   ]
  },
  {
   "cell_type": "markdown",
   "metadata": {},
   "source": [
    "Около 2% данных в столбце пропущены. Пока оставим, как есть (оптимальное значение для пропусков неочевидно). Посмотрим, как скоррелированы между собой столбцы \"freetime\" и \"goout\":"
   ]
  },
  {
   "cell_type": "code",
   "execution_count": 291,
   "metadata": {},
   "outputs": [
    {
     "name": "stdout",
     "output_type": "stream",
     "text": [
      "0.28516660265277205\n"
     ]
    }
   ],
   "source": [
    "print(students.freetime.corr(students['goout']))"
   ]
  },
  {
   "cell_type": "markdown",
   "metadata": {},
   "source": [
    "Коэффициент корреляции достаточно низкий, только 0.28. Значит, если у школьников появляется свободное время, то они, как правило, не тратят большую его часть на общение с друзьями. Возможно, оно уходит на посещение кружков, саморазвитие, а также отдых отдельно от компанииь (компьютерные игры, чтение и пр.)"
   ]
  },
  {
   "cell_type": "markdown",
   "metadata": {},
   "source": [
    "Проверим выбросы:\n"
   ]
  },
  {
   "cell_type": "code",
   "execution_count": 292,
   "metadata": {},
   "outputs": [
    {
     "name": "stdout",
     "output_type": "stream",
     "text": [
      " 1-ый квартиль: 2.0, 3-ий квартиль: 4.0, IQR: 2.0. Границы выбросов: [-1.0, 7.0]\n"
     ]
    },
    {
     "data": {
      "image/png": "[encoded data removed]",
      "text/plain": [
       "<Figure size 432x288 with 1 Axes>"
      ]
     },
     "metadata": {
      "needs_background": "light"
     },
     "output_type": "display_data"
    }
   ],
   "source": [
    "sns.boxplot('goout',  data = students)\n",
    "main_stat(students.goout)"
   ]
  },
  {
   "cell_type": "markdown",
   "metadata": {},
   "source": [
    "Выбросов здесь нет."
   ]
  },
  {
   "cell_type": "markdown",
   "metadata": {},
   "source": [
    "## health — текущее состояние здоровья (от 1 - очень плохо до 5 - очень хорошо)"
   ]
  },
  {
   "cell_type": "code",
   "execution_count": 293,
   "metadata": {},
   "outputs": [
    {
     "data": {
      "text/html": [
       "<div>\n",
       "<style scoped>\n",
       "    .dataframe tbody tr th:only-of-type {\n",
       "        vertical-align: middle;\n",
       "    }\n",
       "\n",
       "    .dataframe tbody tr th {\n",
       "        vertical-align: top;\n",
       "    }\n",
       "\n",
       "    .dataframe thead th {\n",
       "        text-align: right;\n",
       "    }\n",
       "</style>\n",
       "<table border=\"1\" class=\"dataframe\">\n",
       "  <thead>\n",
       "    <tr style=\"text-align: right;\">\n",
       "      <th></th>\n",
       "      <th>health</th>\n",
       "    </tr>\n",
       "  </thead>\n",
       "  <tbody>\n",
       "    <tr>\n",
       "      <td>5.0</td>\n",
       "      <td>0.346369</td>\n",
       "    </tr>\n",
       "    <tr>\n",
       "      <td>3.0</td>\n",
       "      <td>0.220670</td>\n",
       "    </tr>\n",
       "    <tr>\n",
       "      <td>4.0</td>\n",
       "      <td>0.162011</td>\n",
       "    </tr>\n",
       "    <tr>\n",
       "      <td>1.0</td>\n",
       "      <td>0.122905</td>\n",
       "    </tr>\n",
       "    <tr>\n",
       "      <td>2.0</td>\n",
       "      <td>0.111732</td>\n",
       "    </tr>\n",
       "    <tr>\n",
       "      <td>NaN</td>\n",
       "      <td>0.036313</td>\n",
       "    </tr>\n",
       "  </tbody>\n",
       "</table>\n",
       "</div>"
      ],
      "text/plain": [
       "       health\n",
       "5.0  0.346369\n",
       "3.0  0.220670\n",
       "4.0  0.162011\n",
       "1.0  0.122905\n",
       "2.0  0.111732\n",
       "NaN  0.036313"
      ]
     },
     "metadata": {},
     "output_type": "display_data"
    }
   ],
   "source": [
    "display(pd.DataFrame(students.health.value_counts(dropna=False, normalize=True)))"
   ]
  },
  {
   "cell_type": "markdown",
   "metadata": {},
   "source": [
    "Около 4% данных в столбце пропущены. Пока оставим, как есть (оптимальное значение для пропусков неочевидно). Проверим выбросы:"
   ]
  },
  {
   "cell_type": "code",
   "execution_count": 294,
   "metadata": {},
   "outputs": [
    {
     "name": "stdout",
     "output_type": "stream",
     "text": [
      " 1-ый квартиль: 3.0, 3-ий квартиль: 5.0, IQR: 2.0. Границы выбросов: [0.0, 8.0]\n"
     ]
    },
    {
     "data": {
      "image/png": "[encoded data removed]",
      "text/plain": [
       "<Figure size 432x288 with 1 Axes>"
      ]
     },
     "metadata": {
      "needs_background": "light"
     },
     "output_type": "display_data"
    }
   ],
   "source": [
    "sns.boxplot('health',  data = students)\n",
    "main_stat(students.health)"
   ]
  },
  {
   "cell_type": "markdown",
   "metadata": {},
   "source": [
    "Выбросов здесь нет."
   ]
  },
  {
   "cell_type": "markdown",
   "metadata": {},
   "source": [
    " ## absences — количество пропущенных занятий"
   ]
  },
  {
   "cell_type": "code",
   "execution_count": 295,
   "metadata": {},
   "outputs": [
    {
     "data": {
      "text/html": [
       "<div>\n",
       "<style scoped>\n",
       "    .dataframe tbody tr th:only-of-type {\n",
       "        vertical-align: middle;\n",
       "    }\n",
       "\n",
       "    .dataframe tbody tr th {\n",
       "        vertical-align: top;\n",
       "    }\n",
       "\n",
       "    .dataframe thead th {\n",
       "        text-align: right;\n",
       "    }\n",
       "</style>\n",
       "<table border=\"1\" class=\"dataframe\">\n",
       "  <thead>\n",
       "    <tr style=\"text-align: right;\">\n",
       "      <th></th>\n",
       "      <th>absences</th>\n",
       "    </tr>\n",
       "  </thead>\n",
       "  <tbody>\n",
       "    <tr>\n",
       "      <td>0.0</td>\n",
       "      <td>0.287709</td>\n",
       "    </tr>\n",
       "    <tr>\n",
       "      <td>2.0</td>\n",
       "      <td>0.156425</td>\n",
       "    </tr>\n",
       "    <tr>\n",
       "      <td>4.0</td>\n",
       "      <td>0.131285</td>\n",
       "    </tr>\n",
       "    <tr>\n",
       "      <td>6.0</td>\n",
       "      <td>0.078212</td>\n",
       "    </tr>\n",
       "    <tr>\n",
       "      <td>8.0</td>\n",
       "      <td>0.053073</td>\n",
       "    </tr>\n",
       "    <tr>\n",
       "      <td>10.0</td>\n",
       "      <td>0.041899</td>\n",
       "    </tr>\n",
       "    <tr>\n",
       "      <td>NaN</td>\n",
       "      <td>0.030726</td>\n",
       "    </tr>\n",
       "    <tr>\n",
       "      <td>14.0</td>\n",
       "      <td>0.030726</td>\n",
       "    </tr>\n",
       "    <tr>\n",
       "      <td>12.0</td>\n",
       "      <td>0.030726</td>\n",
       "    </tr>\n",
       "    <tr>\n",
       "      <td>3.0</td>\n",
       "      <td>0.016760</td>\n",
       "    </tr>\n",
       "    <tr>\n",
       "      <td>16.0</td>\n",
       "      <td>0.016760</td>\n",
       "    </tr>\n",
       "    <tr>\n",
       "      <td>7.0</td>\n",
       "      <td>0.013966</td>\n",
       "    </tr>\n",
       "    <tr>\n",
       "      <td>18.0</td>\n",
       "      <td>0.013966</td>\n",
       "    </tr>\n",
       "    <tr>\n",
       "      <td>5.0</td>\n",
       "      <td>0.011173</td>\n",
       "    </tr>\n",
       "    <tr>\n",
       "      <td>20.0</td>\n",
       "      <td>0.011173</td>\n",
       "    </tr>\n",
       "    <tr>\n",
       "      <td>1.0</td>\n",
       "      <td>0.008380</td>\n",
       "    </tr>\n",
       "    <tr>\n",
       "      <td>22.0</td>\n",
       "      <td>0.008380</td>\n",
       "    </tr>\n",
       "    <tr>\n",
       "      <td>9.0</td>\n",
       "      <td>0.008380</td>\n",
       "    </tr>\n",
       "    <tr>\n",
       "      <td>15.0</td>\n",
       "      <td>0.005587</td>\n",
       "    </tr>\n",
       "    <tr>\n",
       "      <td>13.0</td>\n",
       "      <td>0.005587</td>\n",
       "    </tr>\n",
       "    <tr>\n",
       "      <td>25.0</td>\n",
       "      <td>0.002793</td>\n",
       "    </tr>\n",
       "    <tr>\n",
       "      <td>385.0</td>\n",
       "      <td>0.002793</td>\n",
       "    </tr>\n",
       "    <tr>\n",
       "      <td>54.0</td>\n",
       "      <td>0.002793</td>\n",
       "    </tr>\n",
       "    <tr>\n",
       "      <td>26.0</td>\n",
       "      <td>0.002793</td>\n",
       "    </tr>\n",
       "    <tr>\n",
       "      <td>17.0</td>\n",
       "      <td>0.002793</td>\n",
       "    </tr>\n",
       "    <tr>\n",
       "      <td>24.0</td>\n",
       "      <td>0.002793</td>\n",
       "    </tr>\n",
       "    <tr>\n",
       "      <td>28.0</td>\n",
       "      <td>0.002793</td>\n",
       "    </tr>\n",
       "    <tr>\n",
       "      <td>21.0</td>\n",
       "      <td>0.002793</td>\n",
       "    </tr>\n",
       "    <tr>\n",
       "      <td>75.0</td>\n",
       "      <td>0.002793</td>\n",
       "    </tr>\n",
       "    <tr>\n",
       "      <td>38.0</td>\n",
       "      <td>0.002793</td>\n",
       "    </tr>\n",
       "    <tr>\n",
       "      <td>40.0</td>\n",
       "      <td>0.002793</td>\n",
       "    </tr>\n",
       "    <tr>\n",
       "      <td>23.0</td>\n",
       "      <td>0.002793</td>\n",
       "    </tr>\n",
       "    <tr>\n",
       "      <td>11.0</td>\n",
       "      <td>0.002793</td>\n",
       "    </tr>\n",
       "    <tr>\n",
       "      <td>56.0</td>\n",
       "      <td>0.002793</td>\n",
       "    </tr>\n",
       "  </tbody>\n",
       "</table>\n",
       "</div>"
      ],
      "text/plain": [
       "       absences\n",
       "0.0    0.287709\n",
       "2.0    0.156425\n",
       "4.0    0.131285\n",
       "6.0    0.078212\n",
       "8.0    0.053073\n",
       "10.0   0.041899\n",
       "NaN    0.030726\n",
       "14.0   0.030726\n",
       "12.0   0.030726\n",
       "3.0    0.016760\n",
       "16.0   0.016760\n",
       "7.0    0.013966\n",
       "18.0   0.013966\n",
       "5.0    0.011173\n",
       "20.0   0.011173\n",
       "1.0    0.008380\n",
       "22.0   0.008380\n",
       "9.0    0.008380\n",
       "15.0   0.005587\n",
       "13.0   0.005587\n",
       "25.0   0.002793\n",
       "385.0  0.002793\n",
       "54.0   0.002793\n",
       "26.0   0.002793\n",
       "17.0   0.002793\n",
       "24.0   0.002793\n",
       "28.0   0.002793\n",
       "21.0   0.002793\n",
       "75.0   0.002793\n",
       "38.0   0.002793\n",
       "40.0   0.002793\n",
       "23.0   0.002793\n",
       "11.0   0.002793\n",
       "56.0   0.002793"
      ]
     },
     "metadata": {},
     "output_type": "display_data"
    }
   ],
   "source": [
    "display(pd.DataFrame(students.absences.value_counts(dropna=False, normalize=True)))"
   ]
  },
  {
   "cell_type": "markdown",
   "metadata": {},
   "source": [
    "Около 3% данных в столбце пропущены. Пока оставим, как есть (оптимальное значение для пропусков неочевидно). Проверим выбросы:"
   ]
  },
  {
   "cell_type": "code",
   "execution_count": 296,
   "metadata": {},
   "outputs": [
    {
     "name": "stdout",
     "output_type": "stream",
     "text": [
      " 1-ый квартиль: 0.0, 3-ий квартиль: 8.0, IQR: 8.0. Границы выбросов: [-12.0, 20.0]\n"
     ]
    },
    {
     "data": {
      "image/png": "[encoded data removed]",
      "text/plain": [
       "<Figure size 432x288 with 1 Axes>"
      ]
     },
     "metadata": {
      "needs_background": "light"
     },
     "output_type": "display_data"
    }
   ],
   "source": [
    "sns.boxplot('absences',  data = students)\n",
    "main_stat(students.absences)"
   ]
  },
  {
   "cell_type": "markdown",
   "metadata": {},
   "source": [
    "Несмотря на статистику, здравый смысл говорит, что 20 дней - это слишком мало для любителей прогулять школу (по сравнению с общим количеством учебных дней в году). Поэтому удалим только выброс 385, поставив верхнюю границу в 75 пропусков:"
   ]
  },
  {
   "cell_type": "code",
   "execution_count": 297,
   "metadata": {},
   "outputs": [],
   "source": [
    "students = students.loc[students.absences <= 75]"
   ]
  },
  {
   "cell_type": "markdown",
   "metadata": {},
   "source": [
    "## score — баллы по госэкзамену по математике"
   ]
  },
  {
   "cell_type": "markdown",
   "metadata": {},
   "source": [
    "Посмотрим на столбец \"score\" - собственно, тот, который нашей модели и нужно будет предсказать:"
   ]
  },
  {
   "cell_type": "code",
   "execution_count": 298,
   "metadata": {},
   "outputs": [
    {
     "data": {
      "text/html": [
       "<div>\n",
       "<style scoped>\n",
       "    .dataframe tbody tr th:only-of-type {\n",
       "        vertical-align: middle;\n",
       "    }\n",
       "\n",
       "    .dataframe tbody tr th {\n",
       "        vertical-align: top;\n",
       "    }\n",
       "\n",
       "    .dataframe thead th {\n",
       "        text-align: right;\n",
       "    }\n",
       "</style>\n",
       "<table border=\"1\" class=\"dataframe\">\n",
       "  <thead>\n",
       "    <tr style=\"text-align: right;\">\n",
       "      <th></th>\n",
       "      <th>score</th>\n",
       "    </tr>\n",
       "  </thead>\n",
       "  <tbody>\n",
       "    <tr>\n",
       "      <td>50.0</td>\n",
       "      <td>0.147399</td>\n",
       "    </tr>\n",
       "    <tr>\n",
       "      <td>55.0</td>\n",
       "      <td>0.124277</td>\n",
       "    </tr>\n",
       "    <tr>\n",
       "      <td>0.0</td>\n",
       "      <td>0.095376</td>\n",
       "    </tr>\n",
       "    <tr>\n",
       "      <td>65.0</td>\n",
       "      <td>0.083815</td>\n",
       "    </tr>\n",
       "    <tr>\n",
       "      <td>70.0</td>\n",
       "      <td>0.078035</td>\n",
       "    </tr>\n",
       "    <tr>\n",
       "      <td>75.0</td>\n",
       "      <td>0.078035</td>\n",
       "    </tr>\n",
       "    <tr>\n",
       "      <td>60.0</td>\n",
       "      <td>0.078035</td>\n",
       "    </tr>\n",
       "    <tr>\n",
       "      <td>40.0</td>\n",
       "      <td>0.075145</td>\n",
       "    </tr>\n",
       "    <tr>\n",
       "      <td>45.0</td>\n",
       "      <td>0.066474</td>\n",
       "    </tr>\n",
       "    <tr>\n",
       "      <td>80.0</td>\n",
       "      <td>0.043353</td>\n",
       "    </tr>\n",
       "    <tr>\n",
       "      <td>30.0</td>\n",
       "      <td>0.040462</td>\n",
       "    </tr>\n",
       "    <tr>\n",
       "      <td>90.0</td>\n",
       "      <td>0.026012</td>\n",
       "    </tr>\n",
       "    <tr>\n",
       "      <td>25.0</td>\n",
       "      <td>0.020231</td>\n",
       "    </tr>\n",
       "    <tr>\n",
       "      <td>35.0</td>\n",
       "      <td>0.020231</td>\n",
       "    </tr>\n",
       "    <tr>\n",
       "      <td>85.0</td>\n",
       "      <td>0.008671</td>\n",
       "    </tr>\n",
       "    <tr>\n",
       "      <td>95.0</td>\n",
       "      <td>0.008671</td>\n",
       "    </tr>\n",
       "    <tr>\n",
       "      <td>100.0</td>\n",
       "      <td>0.002890</td>\n",
       "    </tr>\n",
       "    <tr>\n",
       "      <td>20.0</td>\n",
       "      <td>0.002890</td>\n",
       "    </tr>\n",
       "  </tbody>\n",
       "</table>\n",
       "</div>"
      ],
      "text/plain": [
       "          score\n",
       "50.0   0.147399\n",
       "55.0   0.124277\n",
       "0.0    0.095376\n",
       "65.0   0.083815\n",
       "70.0   0.078035\n",
       "75.0   0.078035\n",
       "60.0   0.078035\n",
       "40.0   0.075145\n",
       "45.0   0.066474\n",
       "80.0   0.043353\n",
       "30.0   0.040462\n",
       "90.0   0.026012\n",
       "25.0   0.020231\n",
       "35.0   0.020231\n",
       "85.0   0.008671\n",
       "95.0   0.008671\n",
       "100.0  0.002890\n",
       "20.0   0.002890"
      ]
     },
     "metadata": {},
     "output_type": "display_data"
    }
   ],
   "source": [
    "display(pd.DataFrame(students.score.value_counts(dropna=False, normalize=True)))"
   ]
  },
  {
   "cell_type": "code",
   "execution_count": 299,
   "metadata": {},
   "outputs": [
    {
     "data": {
      "text/plain": [
       "<matplotlib.axes._subplots.AxesSubplot at 0x1cda9393cc8>"
      ]
     },
     "execution_count": 299,
     "metadata": {},
     "output_type": "execute_result"
    },
    {
     "data": {
      "image/png": "[encoded data removed]",
      "text/plain": [
       "<Figure size 432x288 with 1 Axes>"
      ]
     },
     "metadata": {
      "needs_background": "light"
     },
     "output_type": "display_data"
    }
   ],
   "source": [
    "students.score.hist(bins=20)"
   ]
  },
  {
   "cell_type": "markdown",
   "metadata": {},
   "source": [
    "График полностью соответствует ожиданиям: примерно так чаще всего и выглядит распределение оценок за экзамен. Основная масса сдала средне, получив результат в районе 50-60 баллов, еще достаточно большая группа людей написала хорошо (60-80) и лишь немногие получили очень низкие (менее 40 баллов) и очень высокие (80+) результаты. Здравый смысл говорит, что люди, получившие 0 за экзамен, - это, скорее всего, те, кто на него не пришел, поэтому удалим их из общей статистики:"
   ]
  },
  {
   "cell_type": "code",
   "execution_count": 300,
   "metadata": {},
   "outputs": [],
   "source": [
    "students = students.loc[students.score > 0]"
   ]
  },
  {
   "cell_type": "markdown",
   "metadata": {},
   "source": [
    "# Корреляционный анализ"
   ]
  },
  {
   "cell_type": "markdown",
   "metadata": {},
   "source": [
    "Для начала оценим, какие номинативные переменные сильнее всего влияют на успешность сдачи экзамена, проведя корреляционный анализ:"
   ]
  },
  {
   "cell_type": "code",
   "execution_count": 301,
   "metadata": {},
   "outputs": [
    {
     "data": {
      "text/html": [
       "<div>\n",
       "<style scoped>\n",
       "    .dataframe tbody tr th:only-of-type {\n",
       "        vertical-align: middle;\n",
       "    }\n",
       "\n",
       "    .dataframe tbody tr th {\n",
       "        vertical-align: top;\n",
       "    }\n",
       "\n",
       "    .dataframe thead th {\n",
       "        text-align: right;\n",
       "    }\n",
       "</style>\n",
       "<table border=\"1\" class=\"dataframe\">\n",
       "  <thead>\n",
       "    <tr style=\"text-align: right;\">\n",
       "      <th></th>\n",
       "      <th>age</th>\n",
       "      <th>mother_education</th>\n",
       "      <th>father_education</th>\n",
       "      <th>travel_time</th>\n",
       "      <th>study_time</th>\n",
       "      <th>non_study_failures</th>\n",
       "      <th>family_relations</th>\n",
       "      <th>freetime</th>\n",
       "      <th>goout</th>\n",
       "      <th>health</th>\n",
       "      <th>absences</th>\n",
       "      <th>score</th>\n",
       "    </tr>\n",
       "  </thead>\n",
       "  <tbody>\n",
       "    <tr>\n",
       "      <td>age</td>\n",
       "      <td>1.000000</td>\n",
       "      <td>-0.126705</td>\n",
       "      <td>-0.109119</td>\n",
       "      <td>0.119288</td>\n",
       "      <td>0.043711</td>\n",
       "      <td>0.123861</td>\n",
       "      <td>-0.009353</td>\n",
       "      <td>-0.081216</td>\n",
       "      <td>0.086300</td>\n",
       "      <td>-0.022339</td>\n",
       "      <td>0.222806</td>\n",
       "      <td>-0.159133</td>\n",
       "    </tr>\n",
       "    <tr>\n",
       "      <td>mother_education</td>\n",
       "      <td>-0.126705</td>\n",
       "      <td>1.000000</td>\n",
       "      <td>0.629931</td>\n",
       "      <td>-0.195075</td>\n",
       "      <td>0.055843</td>\n",
       "      <td>-0.214472</td>\n",
       "      <td>-0.007129</td>\n",
       "      <td>-0.002355</td>\n",
       "      <td>0.050350</td>\n",
       "      <td>-0.060966</td>\n",
       "      <td>0.060723</td>\n",
       "      <td>0.199358</td>\n",
       "    </tr>\n",
       "    <tr>\n",
       "      <td>father_education</td>\n",
       "      <td>-0.109119</td>\n",
       "      <td>0.629931</td>\n",
       "      <td>1.000000</td>\n",
       "      <td>-0.141287</td>\n",
       "      <td>-0.019705</td>\n",
       "      <td>-0.251198</td>\n",
       "      <td>-0.004529</td>\n",
       "      <td>-0.013156</td>\n",
       "      <td>0.033231</td>\n",
       "      <td>-0.010474</td>\n",
       "      <td>0.030266</td>\n",
       "      <td>0.133737</td>\n",
       "    </tr>\n",
       "    <tr>\n",
       "      <td>travel_time</td>\n",
       "      <td>0.119288</td>\n",
       "      <td>-0.195075</td>\n",
       "      <td>-0.141287</td>\n",
       "      <td>1.000000</td>\n",
       "      <td>-0.118338</td>\n",
       "      <td>0.105026</td>\n",
       "      <td>-0.034655</td>\n",
       "      <td>-0.008474</td>\n",
       "      <td>0.019632</td>\n",
       "      <td>0.030389</td>\n",
       "      <td>-0.012731</td>\n",
       "      <td>-0.087719</td>\n",
       "    </tr>\n",
       "    <tr>\n",
       "      <td>study_time</td>\n",
       "      <td>0.043711</td>\n",
       "      <td>0.055843</td>\n",
       "      <td>-0.019705</td>\n",
       "      <td>-0.118338</td>\n",
       "      <td>1.000000</td>\n",
       "      <td>-0.127768</td>\n",
       "      <td>0.075817</td>\n",
       "      <td>-0.117961</td>\n",
       "      <td>-0.017262</td>\n",
       "      <td>-0.077547</td>\n",
       "      <td>-0.061585</td>\n",
       "      <td>0.153930</td>\n",
       "    </tr>\n",
       "    <tr>\n",
       "      <td>non_study_failures</td>\n",
       "      <td>0.123861</td>\n",
       "      <td>-0.214472</td>\n",
       "      <td>-0.251198</td>\n",
       "      <td>0.105026</td>\n",
       "      <td>-0.127768</td>\n",
       "      <td>1.000000</td>\n",
       "      <td>-0.059749</td>\n",
       "      <td>0.070280</td>\n",
       "      <td>0.093331</td>\n",
       "      <td>0.107642</td>\n",
       "      <td>0.134673</td>\n",
       "      <td>-0.281472</td>\n",
       "    </tr>\n",
       "    <tr>\n",
       "      <td>family_relations</td>\n",
       "      <td>-0.009353</td>\n",
       "      <td>-0.007129</td>\n",
       "      <td>-0.004529</td>\n",
       "      <td>-0.034655</td>\n",
       "      <td>0.075817</td>\n",
       "      <td>-0.059749</td>\n",
       "      <td>1.000000</td>\n",
       "      <td>0.137957</td>\n",
       "      <td>0.038476</td>\n",
       "      <td>0.111386</td>\n",
       "      <td>-0.053438</td>\n",
       "      <td>0.056762</td>\n",
       "    </tr>\n",
       "    <tr>\n",
       "      <td>freetime</td>\n",
       "      <td>-0.081216</td>\n",
       "      <td>-0.002355</td>\n",
       "      <td>-0.013156</td>\n",
       "      <td>-0.008474</td>\n",
       "      <td>-0.117961</td>\n",
       "      <td>0.070280</td>\n",
       "      <td>0.137957</td>\n",
       "      <td>1.000000</td>\n",
       "      <td>0.275081</td>\n",
       "      <td>0.075569</td>\n",
       "      <td>-0.095026</td>\n",
       "      <td>-0.013106</td>\n",
       "    </tr>\n",
       "    <tr>\n",
       "      <td>goout</td>\n",
       "      <td>0.086300</td>\n",
       "      <td>0.050350</td>\n",
       "      <td>0.033231</td>\n",
       "      <td>0.019632</td>\n",
       "      <td>-0.017262</td>\n",
       "      <td>0.093331</td>\n",
       "      <td>0.038476</td>\n",
       "      <td>0.275081</td>\n",
       "      <td>1.000000</td>\n",
       "      <td>0.032454</td>\n",
       "      <td>0.011255</td>\n",
       "      <td>-0.199217</td>\n",
       "    </tr>\n",
       "    <tr>\n",
       "      <td>health</td>\n",
       "      <td>-0.022339</td>\n",
       "      <td>-0.060966</td>\n",
       "      <td>-0.010474</td>\n",
       "      <td>0.030389</td>\n",
       "      <td>-0.077547</td>\n",
       "      <td>0.107642</td>\n",
       "      <td>0.111386</td>\n",
       "      <td>0.075569</td>\n",
       "      <td>0.032454</td>\n",
       "      <td>1.000000</td>\n",
       "      <td>-0.007151</td>\n",
       "      <td>-0.067135</td>\n",
       "    </tr>\n",
       "    <tr>\n",
       "      <td>absences</td>\n",
       "      <td>0.222806</td>\n",
       "      <td>0.060723</td>\n",
       "      <td>0.030266</td>\n",
       "      <td>-0.012731</td>\n",
       "      <td>-0.061585</td>\n",
       "      <td>0.134673</td>\n",
       "      <td>-0.053438</td>\n",
       "      <td>-0.095026</td>\n",
       "      <td>0.011255</td>\n",
       "      <td>-0.007151</td>\n",
       "      <td>1.000000</td>\n",
       "      <td>-0.193646</td>\n",
       "    </tr>\n",
       "    <tr>\n",
       "      <td>score</td>\n",
       "      <td>-0.159133</td>\n",
       "      <td>0.199358</td>\n",
       "      <td>0.133737</td>\n",
       "      <td>-0.087719</td>\n",
       "      <td>0.153930</td>\n",
       "      <td>-0.281472</td>\n",
       "      <td>0.056762</td>\n",
       "      <td>-0.013106</td>\n",
       "      <td>-0.199217</td>\n",
       "      <td>-0.067135</td>\n",
       "      <td>-0.193646</td>\n",
       "      <td>1.000000</td>\n",
       "    </tr>\n",
       "  </tbody>\n",
       "</table>\n",
       "</div>"
      ],
      "text/plain": [
       "                         age  mother_education  father_education  travel_time  \\\n",
       "age                 1.000000         -0.126705         -0.109119     0.119288   \n",
       "mother_education   -0.126705          1.000000          0.629931    -0.195075   \n",
       "father_education   -0.109119          0.629931          1.000000    -0.141287   \n",
       "travel_time         0.119288         -0.195075         -0.141287     1.000000   \n",
       "study_time          0.043711          0.055843         -0.019705    -0.118338   \n",
       "non_study_failures  0.123861         -0.214472         -0.251198     0.105026   \n",
       "family_relations   -0.009353         -0.007129         -0.004529    -0.034655   \n",
       "freetime           -0.081216         -0.002355         -0.013156    -0.008474   \n",
       "goout               0.086300          0.050350          0.033231     0.019632   \n",
       "health             -0.022339         -0.060966         -0.010474     0.030389   \n",
       "absences            0.222806          0.060723          0.030266    -0.012731   \n",
       "score              -0.159133          0.199358          0.133737    -0.087719   \n",
       "\n",
       "                    study_time  non_study_failures  family_relations  \\\n",
       "age                   0.043711            0.123861         -0.009353   \n",
       "mother_education      0.055843           -0.214472         -0.007129   \n",
       "father_education     -0.019705           -0.251198         -0.004529   \n",
       "travel_time          -0.118338            0.105026         -0.034655   \n",
       "study_time            1.000000           -0.127768          0.075817   \n",
       "non_study_failures   -0.127768            1.000000         -0.059749   \n",
       "family_relations      0.075817           -0.059749          1.000000   \n",
       "freetime             -0.117961            0.070280          0.137957   \n",
       "goout                -0.017262            0.093331          0.038476   \n",
       "health               -0.077547            0.107642          0.111386   \n",
       "absences             -0.061585            0.134673         -0.053438   \n",
       "score                 0.153930           -0.281472          0.056762   \n",
       "\n",
       "                    freetime     goout    health  absences     score  \n",
       "age                -0.081216  0.086300 -0.022339  0.222806 -0.159133  \n",
       "mother_education   -0.002355  0.050350 -0.060966  0.060723  0.199358  \n",
       "father_education   -0.013156  0.033231 -0.010474  0.030266  0.133737  \n",
       "travel_time        -0.008474  0.019632  0.030389 -0.012731 -0.087719  \n",
       "study_time         -0.117961 -0.017262 -0.077547 -0.061585  0.153930  \n",
       "non_study_failures  0.070280  0.093331  0.107642  0.134673 -0.281472  \n",
       "family_relations    0.137957  0.038476  0.111386 -0.053438  0.056762  \n",
       "freetime            1.000000  0.275081  0.075569 -0.095026 -0.013106  \n",
       "goout               0.275081  1.000000  0.032454  0.011255 -0.199217  \n",
       "health              0.075569  0.032454  1.000000 -0.007151 -0.067135  \n",
       "absences           -0.095026  0.011255 -0.007151  1.000000 -0.193646  \n",
       "score              -0.013106 -0.199217 -0.067135 -0.193646  1.000000  "
      ]
     },
     "execution_count": 301,
     "metadata": {},
     "output_type": "execute_result"
    }
   ],
   "source": [
    "students.corr()"
   ]
  },
  {
   "cell_type": "markdown",
   "metadata": {},
   "source": [
    "Видим, что все количественные переменные так или иначе скоррелированы c итоговой оценкой за экзамен, при этом наибольшее влияние на оценку оказывает количество внеучебных неудач (столбец \"non_study_failures\"), что, в принципе, объяснимо, т.к. проблемы в личной жизни часто мешают нам сосредоточиться на делах. Наименьшее влияние оказало наличие свободного времени, что тоже вполне логично, т.к. под свободным временем мы подразумеваем время, когда школьник не занят учебой."
   ]
  },
  {
   "cell_type": "markdown",
   "metadata": {},
   "source": [
    "Для более полной картины применим теперь дополнительный статистический метод, позволяющий, позволяющий найти статистически значимые различия как для количественных, так и для номинативных переменных:"
   ]
  },
  {
   "cell_type": "code",
   "execution_count": 302,
   "metadata": {},
   "outputs": [
    {
     "name": "stdout",
     "output_type": "stream",
     "text": [
      "Найдены статистически значимые различия для колонки sex\n",
      "Найдены статистически значимые различия для колонки address\n",
      "Найдены статистически значимые различия для колонки mother_education\n",
      "Найдены статистически значимые различия для колонки mother_job\n",
      "Найдены статистически значимые различия для колонки study_time\n",
      "Найдены статистически значимые различия для колонки non_study_failures\n",
      "Найдены статистически значимые различия для колонки school_educational_support\n",
      "Найдены статистически значимые различия для колонки goout\n",
      "Найдены статистически значимые различия для колонки score\n"
     ]
    }
   ],
   "source": [
    "for column in students.columns:\n",
    "    get_stat_dif(column)"
   ]
  },
  {
   "cell_type": "markdown",
   "metadata": {},
   "source": [
    "Итак, важными переменными, оказывающими наиболее существенное влияние на экзамен, являются sex, address, mother_education, mother_job, study_time, non_study_failres, school_educational_support и goout. Здравый смысл также говорит, что сюда стоит добавить:  \n",
    "  \n",
    "1) father_job и father_education (логично учитывать образование и работу обоих родителей);  \n",
    "2) absences (безусловно, количество пропусков влияет на учебу, да и коэффициент корреляции, судя по предыдущей таблице, достаточно высок);  \n",
    "3) maths_tutor (дополнительные занятия по математике помогают улучшить успеваемость и \"натаскаться\" непосредственно на экзамен);  "
   ]
  },
  {
   "cell_type": "markdown",
   "metadata": {},
   "source": [
    "Используем их для построения модели:"
   ]
  },
  {
   "cell_type": "code",
   "execution_count": 303,
   "metadata": {},
   "outputs": [],
   "source": [
    "for_model = students.loc[:, [\"sex\", \"address\", \"mother_education\", \"mother_job\", \"father_education\", \"father_job\", \n",
    "                              \"maths_tutor\", \"study_time\", \"non_study_failures\", \"school_educational_support\", \"goout\", \"absences\"]]"
   ]
  },
  {
   "cell_type": "markdown",
   "metadata": {},
   "source": [
    "# Выводы"
   ]
  },
  {
   "cell_type": "markdown",
   "metadata": {},
   "source": [
    "1) В данных довольно много пропусков (в среднем от 5 до 10% на каждый столбец), которые в большинстве случаев заполнить невозможно, а, удалив их, мы потеряем примерно половину информации из датасета.  \n",
    "2) Многие количественные переменные имеют выбросы, однако удалять их чаще всего не нужно, т.к. на практике эти значения встречаются пусть и реже, чем остальные, но все же их вероятность не стремится к 0.  \n",
    "3) Наиболее значимые столбцы, которые нам пригодятся в дальнейшем при построении модели: \"sex\", \"address\", \"mother_education\", \"mother_job\", \"father_education\", \"father_job\", \"maths_tutor\", \"study_time\", \"non_study_failures\", \"school_educational_support\", \"goout\", \"absences\"."
   ]
  }
 ],
 "metadata": {
  "kernelspec": {
   "display_name": "Python 3",
   "language": "python",
   "name": "python3"
  },
  "language_info": {
   "codemirror_mode": {
    "name": "ipython",
    "version": 3
   },
   "file_extension": ".py",
   "mimetype": "text/x-python",
   "name": "python",
   "nbconvert_exporter": "python",
   "pygments_lexer": "ipython3",
   "version": "3.7.4"
  }
 },
 "nbformat": 4,
 "nbformat_minor": 2
}
